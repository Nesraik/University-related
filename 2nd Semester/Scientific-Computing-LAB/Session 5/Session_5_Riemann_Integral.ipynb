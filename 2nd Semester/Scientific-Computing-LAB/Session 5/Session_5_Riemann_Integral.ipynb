{
  "nbformat": 4,
  "nbformat_minor": 0,
  "metadata": {
    "colab": {
      "provenance": [],
      "authorship_tag": "ABX9TyNabKvI/pL3tMNmuutS4vrh",
      "include_colab_link": true
    },
    "kernelspec": {
      "name": "python3",
      "display_name": "Python 3"
    },
    "language_info": {
      "name": "python"
    }
  },
  "cells": [
    {
      "cell_type": "markdown",
      "metadata": {
        "id": "view-in-github",
        "colab_type": "text"
      },
      "source": [
        "<a href=\"https://colab.research.google.com/github/Nesraik/Scientific-Computing-LAB-/blob/main/Session%205/Session_5_Riemann_Integral.ipynb\" target=\"_parent\"><img src=\"https://colab.research.google.com/assets/colab-badge.svg\" alt=\"Open In Colab\"/></a>"
      ]
    },
    {
      "cell_type": "code",
      "execution_count": null,
      "metadata": {
        "colab": {
          "base_uri": "https://localhost:8080/"
        },
        "id": "drGHnOy505iJ",
        "outputId": "f62cc003-def1-460f-9c30-858947797f98"
      },
      "outputs": [
        {
          "output_type": "stream",
          "name": "stdout",
          "text": [
            "1.9835235375094546\n",
            "0.01647646249054535\n",
            "1.9835235375094546\n",
            "0.01647646249054535\n",
            "2.0082484079079745\n",
            "-0.008248407907974542\n"
          ]
        }
      ],
      "source": [
        "#Riemann Integral\n",
        "import numpy as np\n",
        "a = 0\n",
        "b = np.pi\n",
        "n = 11\n",
        "h= (b - a) / (n - 1)\n",
        "x = np.linspace(a, b, n)\n",
        "f = np.sin(x)\n",
        "I_riemannL = h * sum(f[:n-1])\n",
        "err_riemannL = 2 - I_riemannL\n",
        "I_riemannR = h * sum(f[1::])\n",
        "err_riemannR = 2 - I_riemannR\n",
        "I_mid = h * sum(np.sin((x[:n-1] + x[1:])/2))\n",
        "err_mid = 2 - I_mid\n",
        "print(I_riemannL)\n",
        "print(err_riemannL)\n",
        "print(I_riemannR)\n",
        "print(err_riemannR)\n",
        "print(I_mid)\n",
        "print(err_mid)\n"
      ]
    }
  ]
}