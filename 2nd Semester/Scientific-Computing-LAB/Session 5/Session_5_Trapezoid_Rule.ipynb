{
  "nbformat": 4,
  "nbformat_minor": 0,
  "metadata": {
    "colab": {
      "provenance": [],
      "authorship_tag": "ABX9TyPhrob3WRtwr76uUeQ+Za5c",
      "include_colab_link": true
    },
    "kernelspec": {
      "name": "python3",
      "display_name": "Python 3"
    },
    "language_info": {
      "name": "python"
    }
  },
  "cells": [
    {
      "cell_type": "markdown",
      "metadata": {
        "id": "view-in-github",
        "colab_type": "text"
      },
      "source": [
        "<a href=\"https://colab.research.google.com/github/Nesraik/Scientific-Computing-LAB-/blob/main/Session%205/Session_5_Trapezoid_Rule.ipynb\" target=\"_parent\"><img src=\"https://colab.research.google.com/assets/colab-badge.svg\" alt=\"Open In Colab\"/></a>"
      ]
    },
    {
      "cell_type": "code",
      "execution_count": null,
      "metadata": {
        "colab": {
          "base_uri": "https://localhost:8080/"
        },
        "id": "UoERwb1_v0wI",
        "outputId": "b84ad0fe-235f-45d9-838e-5418405bb5e4"
      },
      "outputs": [
        {
          "output_type": "stream",
          "name": "stdout",
          "text": [
            "1.9835235375094546\n",
            "0.01647646249054535\n"
          ]
        }
      ],
      "source": [
        "#Trapezoid Rule\n",
        "import numpy as np\n",
        "\n",
        "a =0\n",
        "\n",
        "b= np.pi\n",
        "\n",
        "n = 11\n",
        "\n",
        "h = (b -a) / (n-1)\n",
        "x = np.linspace(a, b, n)\n",
        "f = np.sin(x)\n",
        "\n",
        "\n",
        "I_trap = (h/2)*(f[0] + \\\n",
        "2 * sum(f[1:n-1]) + f[n-1])\n",
        "\n",
        "err_trap = 2 - I_trap\n",
        "\n",
        "print (I_trap)\n",
        "print (err_trap)\n"
      ]
    }
  ]
}