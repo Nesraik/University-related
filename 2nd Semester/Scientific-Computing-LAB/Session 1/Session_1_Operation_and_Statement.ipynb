{
  "nbformat": 4,
  "nbformat_minor": 0,
  "metadata": {
    "colab": {
      "provenance": [],
      "authorship_tag": "ABX9TyPrSP3Gg0KmOI/zd6pcJGMa",
      "include_colab_link": true
    },
    "kernelspec": {
      "name": "python3",
      "display_name": "Python 3"
    },
    "language_info": {
      "name": "python"
    }
  },
  "cells": [
    {
      "cell_type": "markdown",
      "metadata": {
        "id": "view-in-github",
        "colab_type": "text"
      },
      "source": [
        "<a href=\"https://colab.research.google.com/github/Nesraik/Scientific-Computing-LAB-/blob/main/Session%201/Session_1_Operation_and_Statement.ipynb\" target=\"_parent\"><img src=\"https://colab.research.google.com/assets/colab-badge.svg\" alt=\"Open In Colab\"/></a>"
      ]
    },
    {
      "cell_type": "code",
      "execution_count": null,
      "metadata": {
        "id": "TSMXDXyixYAP"
      },
      "outputs": [],
      "source": [
        "def thermostat(current_temperature, desired_temperature):\n",
        "  if(current_temperature < desired_temperature-5):\n",
        "    status = 'Heat'\n",
        "  elif(current_temperature > desired_temperature+5):\n",
        "    status = 'AC'\n",
        "  else:\n",
        "    status = 'Off'\n",
        "  return status"
      ]
    },
    {
      "cell_type": "code",
      "source": [
        "result = thermostat(65,75)\n",
        "print(result)"
      ],
      "metadata": {
        "colab": {
          "base_uri": "https://localhost:8080/"
        },
        "id": "ZxONajpCyP4-",
        "outputId": "8f39694a-91f7-471e-d914-7db0eef00d5a"
      },
      "execution_count": null,
      "outputs": [
        {
          "output_type": "stream",
          "name": "stdout",
          "text": [
            "Heat\n"
          ]
        }
      ]
    },
    {
      "cell_type": "code",
      "source": [
        "result = thermostat(75,65)\n",
        "print(result)"
      ],
      "metadata": {
        "colab": {
          "base_uri": "https://localhost:8080/"
        },
        "id": "VohUafZXygpP",
        "outputId": "b1cfd435-6c33-47d2-912f-9ec618da3a39"
      },
      "execution_count": null,
      "outputs": [
        {
          "output_type": "stream",
          "name": "stdout",
          "text": [
            "AC\n"
          ]
        }
      ]
    },
    {
      "cell_type": "code",
      "source": [
        "result = thermostat(65,63)\n",
        "result"
      ],
      "metadata": {
        "colab": {
          "base_uri": "https://localhost:8080/",
          "height": 36
        },
        "id": "t_3I35gzymph",
        "outputId": "f8d57f20-bd59-4b84-ad27-3cb8a1d21dad"
      },
      "execution_count": null,
      "outputs": [
        {
          "output_type": "execute_result",
          "data": {
            "text/plain": [
              "'Off'"
            ],
            "application/vnd.google.colaboratory.intrinsic+json": {
              "type": "string"
            }
          },
          "metadata": {},
          "execution_count": 19
        }
      ]
    }
  ]
}