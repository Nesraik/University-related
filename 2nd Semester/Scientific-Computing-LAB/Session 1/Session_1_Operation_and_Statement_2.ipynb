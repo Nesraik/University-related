{
  "nbformat": 4,
  "nbformat_minor": 0,
  "metadata": {
    "colab": {
      "provenance": [],
      "authorship_tag": "ABX9TyOWlWUty3IYJ2Tk8Imm35HE",
      "include_colab_link": true
    },
    "kernelspec": {
      "name": "python3",
      "display_name": "Python 3"
    },
    "language_info": {
      "name": "python"
    }
  },
  "cells": [
    {
      "cell_type": "markdown",
      "metadata": {
        "id": "view-in-github",
        "colab_type": "text"
      },
      "source": [
        "<a href=\"https://colab.research.google.com/github/Nesraik/Scientific-Computing-LAB-/blob/main/Session%201/Session_1_Operation_and_Statement_2.ipynb\" target=\"_parent\"><img src=\"https://colab.research.google.com/assets/colab-badge.svg\" alt=\"Open In Colab\"/></a>"
      ]
    },
    {
      "cell_type": "code",
      "execution_count": null,
      "metadata": {
        "colab": {
          "base_uri": "https://localhost:8080/"
        },
        "id": "jW1hzautzldr",
        "outputId": "d700cd51-1422-4a9f-e965-ef310f450051"
      },
      "outputs": [
        {
          "output_type": "stream",
          "name": "stdout",
          "text": [
            "x: 3\n",
            "4\n"
          ]
        }
      ],
      "source": [
        "x = int(input(\"x: \"))\n",
        "if(x > 1 and x < 2):\n",
        "  y = 2\n",
        "elif(x > 2 and x < 4):\n",
        "  y = 4\n",
        "else:\n",
        "  y= 0\n",
        "\n",
        "print(y)"
      ]
    },
    {
      "cell_type": "code",
      "source": [
        "x = 3\n",
        "if(1 < x < 2):\n",
        "  y = 2\n",
        "elif(2 < x < 4):\n",
        "  y = 4\n",
        "else:\n",
        "  y = 0\n",
        "  \n",
        "y"
      ],
      "metadata": {
        "colab": {
          "base_uri": "https://localhost:8080/"
        },
        "id": "fn_LJ5HY0Ov1",
        "outputId": "0e013e76-53e5-426d-c070-a9656d2e2c48"
      },
      "execution_count": null,
      "outputs": [
        {
          "output_type": "execute_result",
          "data": {
            "text/plain": [
              "4"
            ]
          },
          "metadata": {},
          "execution_count": 7
        }
      ]
    },
    {
      "cell_type": "code",
      "source": [
        "number = float(input(\"Number: \"))\n",
        "print(number)"
      ],
      "metadata": {
        "colab": {
          "base_uri": "https://localhost:8080/"
        },
        "id": "LMWLReNk1W-p",
        "outputId": "19a4a680-2662-41a1-facf-6f3bfbeceeea"
      },
      "execution_count": null,
      "outputs": [
        {
          "output_type": "stream",
          "name": "stdout",
          "text": [
            "Number: 1.5\n",
            "1.5\n"
          ]
        }
      ]
    }
  ]
}