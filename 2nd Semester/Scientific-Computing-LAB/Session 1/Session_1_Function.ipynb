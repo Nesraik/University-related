{
  "nbformat": 4,
  "nbformat_minor": 0,
  "metadata": {
    "colab": {
      "provenance": [],
      "authorship_tag": "ABX9TyPedg2F/dnj1UJ1MnWgXFQb",
      "include_colab_link": true
    },
    "kernelspec": {
      "name": "python3",
      "display_name": "Python 3"
    },
    "language_info": {
      "name": "python"
    }
  },
  "cells": [
    {
      "cell_type": "markdown",
      "metadata": {
        "id": "view-in-github",
        "colab_type": "text"
      },
      "source": [
        "<a href=\"https://colab.research.google.com/github/Nesraik/Scientific-Computing-LAB-/blob/main/Session%201/Session_1_Function.ipynb\" target=\"_parent\"><img src=\"https://colab.research.google.com/assets/colab-badge.svg\" alt=\"Open In Colab\"/></a>"
      ]
    },
    {
      "cell_type": "code",
      "execution_count": null,
      "metadata": {
        "id": "Mu6uJwkIvfc3"
      },
      "outputs": [],
      "source": [
        "def Sum(a,b,c):\n",
        "  Output = a + b + c\n",
        "  return Output"
      ]
    },
    {
      "cell_type": "code",
      "source": [
        "def Multiply(d,e,f):\n",
        "  Output = d * e * f\n",
        "  return Output"
      ],
      "metadata": {
        "id": "q782yFF_v2Dt"
      },
      "execution_count": null,
      "outputs": []
    },
    {
      "cell_type": "code",
      "source": [
        "print(\"The result of (1 + 2 + 3) is \")\n",
        "x = Sum(1,2,3)\n",
        "print(x)\n",
        "print(\"The result of (2 * 3 * 4) is \")\n",
        "y = Multiply(2,3,4)\n",
        "print(y)"
      ],
      "metadata": {
        "colab": {
          "base_uri": "https://localhost:8080/"
        },
        "id": "1xft_TOzvqIG",
        "outputId": "39a9e5b7-38e4-428a-9214-0ff0739b3bec"
      },
      "execution_count": null,
      "outputs": [
        {
          "output_type": "stream",
          "name": "stdout",
          "text": [
            "The result of (1 + 2 + 3) is \n",
            "6\n",
            "The result of (2 * 3 * 4) is \n",
            "24\n"
          ]
        }
      ]
    }
  ]
}