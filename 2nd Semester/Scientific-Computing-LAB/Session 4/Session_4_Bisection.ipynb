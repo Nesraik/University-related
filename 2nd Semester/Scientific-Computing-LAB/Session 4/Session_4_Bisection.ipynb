{
  "cells": [
    {
      "cell_type": "markdown",
      "metadata": {
        "id": "view-in-github",
        "colab_type": "text"
      },
      "source": [
        "<a href=\"https://colab.research.google.com/github/Nesraik/Scientific-Computing-LAB-/blob/main/Session%204/Session_4_Bisection.ipynb\" target=\"_parent\"><img src=\"https://colab.research.google.com/assets/colab-badge.svg\" alt=\"Open In Colab\"/></a>"
      ]
    },
    {
      "cell_type": "code",
      "execution_count": null,
      "metadata": {
        "id": "_8xc0QoWfshd"
      },
      "outputs": [],
      "source": [
        "#Bisection\n",
        "import numpy as np\n",
        "def bisection(f, a, b, tol):\n",
        "  \n",
        "  if np.sign(f(a)) == np.sign(f(b)):\n",
        "      raise Exception(\n",
        "        \"The scalars a and b do not bound root\")\n",
        "  m = (a+b)/2\n",
        "\n",
        "  if np.abs(f(m)) < tol:\n",
        "    return m\n",
        "  elif  np.sign(f(a)) ==  np.sign(f(m)):\n",
        "    return bisection (f,m,b,tol)\n",
        "  elif np.sign(f(b)) == np.sign(f(m)):\n",
        "    return bisection (f,a,m,tol)\n",
        "    "
      ]
    },
    {
      "cell_type": "code",
      "source": [
        "f = lambda x:x**2-2\n",
        "r1 = bisection(f,0,2,0.1)\n",
        "print(\"r1 = \",r1)\n",
        "r01= bisection (f,0,2,0.01)\n",
        "print(\"r01 =\",r01)\n",
        "print(\"f(r1) =\",f(r1))\n",
        "print(\"f(r01) =\",f(r01))\n"
      ],
      "metadata": {
        "colab": {
          "base_uri": "https://localhost:8080/"
        },
        "id": "b9TK4jKOjXJ0",
        "outputId": "81a6ddbf-a9e2-4a3f-f5d7-a1da10df3490"
      },
      "execution_count": null,
      "outputs": [
        {
          "output_type": "stream",
          "name": "stdout",
          "text": [
            "r1 =  1.4375\n",
            "r01 = 1.4140625\n",
            "f(r1) = 0.06640625\n",
            "f(r01) = -0.00042724609375\n"
          ]
        }
      ]
    }
  ],
  "metadata": {
    "colab": {
      "provenance": [],
      "authorship_tag": "ABX9TyNoAe12Ct0v2DrQA0bfgbCN",
      "include_colab_link": true
    },
    "kernelspec": {
      "display_name": "Python 3",
      "name": "python3"
    },
    "language_info": {
      "name": "python"
    }
  },
  "nbformat": 4,
  "nbformat_minor": 0
}