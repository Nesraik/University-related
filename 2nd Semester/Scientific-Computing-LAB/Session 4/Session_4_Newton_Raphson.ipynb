{
  "nbformat": 4,
  "nbformat_minor": 0,
  "metadata": {
    "colab": {
      "provenance": [],
      "authorship_tag": "ABX9TyOqsRPyibfQ9yQTTLOvlW9i",
      "include_colab_link": true
    },
    "kernelspec": {
      "name": "python3",
      "display_name": "Python 3"
    },
    "language_info": {
      "name": "python"
    }
  },
  "cells": [
    {
      "cell_type": "markdown",
      "metadata": {
        "id": "view-in-github",
        "colab_type": "text"
      },
      "source": [
        "<a href=\"https://colab.research.google.com/github/Nesraik/Scientific-Computing-LAB-/blob/main/Session%204/Session_4_Newton_Raphson.ipynb\" target=\"_parent\"><img src=\"https://colab.research.google.com/assets/colab-badge.svg\" alt=\"Open In Colab\"/></a>"
      ]
    },
    {
      "cell_type": "code",
      "execution_count": null,
      "metadata": {
        "colab": {
          "base_uri": "https://localhost:8080/"
        },
        "id": "VDF6JGs2sOVN",
        "outputId": "ba4c60d2-a1ac-49a0-f5e8-0ca26dd31634"
      },
      "outputs": [
        {
          "output_type": "stream",
          "name": "stdout",
          "text": [
            "newton raphson =  1.4142857142857144\n",
            "sqrt 2=  1.4142135623730951\n"
          ]
        }
      ],
      "source": [
        "#Newton Raphson\n",
        "import numpy as np\n",
        "f = lambda x: x**2-2\n",
        "f_prime = lambda x:2*x\n",
        "newton_raphson= 1.4- (f(1.4))/(f_prime(1.4))\n",
        "print(\"newton raphson = \",newton_raphson)\n",
        "print(\"sqrt 2= \",np.sqrt(2))"
      ]
    },
    {
      "cell_type": "code",
      "source": [
        "def newton (f,df,x0,tol):\n",
        "  if abs(f(x0))<tol:\n",
        "    return x0\n",
        "  else:\n",
        "    return newton(f,df,x0-f(x0)/df(x0),tol)\n"
      ],
      "metadata": {
        "id": "G89gkCNksQAp"
      },
      "execution_count": null,
      "outputs": []
    },
    {
      "cell_type": "code",
      "source": [
        "estimate = newton(f,f_prime,1.5,1e-6)\n",
        "print(\"estimate =\",estimate)\n",
        "print(\"sqrt 2 =\",np.sqrt(2))"
      ],
      "metadata": {
        "colab": {
          "base_uri": "https://localhost:8080/"
        },
        "id": "hMYtFOPosgWT",
        "outputId": "64e0d1d7-72e7-4413-f75f-60518d2aa9fd"
      },
      "execution_count": null,
      "outputs": [
        {
          "output_type": "stream",
          "name": "stdout",
          "text": [
            "estimate = 1.4142135623746899\n",
            "sqrt 2 = 1.4142135623730951\n"
          ]
        }
      ]
    }
  ]
}