{
  "nbformat": 4,
  "nbformat_minor": 0,
  "metadata": {
    "colab": {
      "provenance": [],
      "authorship_tag": "ABX9TyMbRgM43CfdquJ/hmpjTwB8",
      "include_colab_link": true
    },
    "kernelspec": {
      "name": "python3",
      "display_name": "Python 3"
    },
    "language_info": {
      "name": "python"
    }
  },
  "cells": [
    {
      "cell_type": "markdown",
      "metadata": {
        "id": "view-in-github",
        "colab_type": "text"
      },
      "source": [
        "<a href=\"https://colab.research.google.com/github/Nesraik/Scientific-Computing-LAB-/blob/main/Session%202/Session_2_numpy_linalg_solve_and_using_matrix_Inversion_approach.ipynb\" target=\"_parent\"><img src=\"https://colab.research.google.com/assets/colab-badge.svg\" alt=\"Open In Colab\"/></a>"
      ]
    },
    {
      "cell_type": "code",
      "execution_count": null,
      "metadata": {
        "colab": {
          "base_uri": "https://localhost:8080/"
        },
        "id": "nGYwEcuFyEDv",
        "outputId": "5fd17c46-10af-40d7-9edb-676b80d25324"
      },
      "outputs": [
        {
          "output_type": "stream",
          "name": "stdout",
          "text": [
            "[ 2.20833333 -2.58333333 -0.18333333]\n"
          ]
        }
      ],
      "source": [
        "import numpy as np\n",
        "\n",
        "A = np.array([[4,3,-5],\n",
        "              [-2,-4,5],\n",
        "              [8,8,0]])\n",
        "\n",
        "y = np.array([2,5,-3])\n",
        "\n",
        "x = np.linalg.solve(A,y)\n",
        "print(x)"
      ]
    },
    {
      "cell_type": "code",
      "source": [
        "A_inv = np.linalg.inv(A)\n",
        "y = np.dot(A_inv,y)\n",
        "print(\"Using Matrix Inversion Approach: \")\n",
        "print(y)"
      ],
      "metadata": {
        "colab": {
          "base_uri": "https://localhost:8080/"
        },
        "id": "u4OnWroezwQl",
        "outputId": "1d613670-704a-4c11-d75f-38199b8e0a15"
      },
      "execution_count": null,
      "outputs": [
        {
          "output_type": "stream",
          "name": "stdout",
          "text": [
            "Using Matrix Inversion Approach: \n",
            "[ 2.20833333 -2.58333333 -0.18333333]\n"
          ]
        }
      ]
    }
  ]
}