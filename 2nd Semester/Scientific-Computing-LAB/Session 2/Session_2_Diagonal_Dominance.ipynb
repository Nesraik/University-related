{
  "nbformat": 4,
  "nbformat_minor": 0,
  "metadata": {
    "colab": {
      "provenance": [],
      "authorship_tag": "ABX9TyM1vhddsABWjz4czYsm9xES",
      "include_colab_link": true
    },
    "kernelspec": {
      "name": "python3",
      "display_name": "Python 3"
    },
    "language_info": {
      "name": "python"
    }
  },
  "cells": [
    {
      "cell_type": "markdown",
      "metadata": {
        "id": "view-in-github",
        "colab_type": "text"
      },
      "source": [
        "<a href=\"https://colab.research.google.com/github/Nesraik/Scientific-Computing-LAB-/blob/main/Session%202/Session_2_Diagonal_Dominance.ipynb\" target=\"_parent\"><img src=\"https://colab.research.google.com/assets/colab-badge.svg\" alt=\"Open In Colab\"/></a>"
      ]
    },
    {
      "cell_type": "code",
      "execution_count": null,
      "metadata": {
        "colab": {
          "base_uri": "https://localhost:8080/"
        },
        "id": "Fa2n3GY4qxYW",
        "outputId": "1e6bc7f6-608e-49f0-e6dd-4496521ae6e6"
      },
      "outputs": [
        {
          "output_type": "stream",
          "name": "stdout",
          "text": [
            "The diagonal of the matrix is: \n",
            "[ 8  8 10]\n",
            "The summation of other element beside its diagonal is: \n",
            "[6 7 8]\n",
            "Matrix is diagonally dominant\n"
          ]
        }
      ],
      "source": [
        "import numpy as np\n",
        "a=[[8,3,-3],[-2,-8,5],[3,5,10]]\n",
        "\n",
        "diag = np.diag(np.abs(a))\n",
        "\n",
        "OffDiag = np.sum(np.abs(a), axis=1)-diag\n",
        "print(\"The diagonal of the matrix is: \")\n",
        "print(diag)\n",
        "\n",
        "print(\"The summation of other element beside its diagonal is: \")\n",
        "print(OffDiag)\n",
        "\n",
        "if np.all(diag > OffDiag):\n",
        "  print(\"Matrix is diagonally dominant\")\n",
        "else:\n",
        "  print(\"Matrix is not diagonally dominant\")"
      ]
    }
  ]
}