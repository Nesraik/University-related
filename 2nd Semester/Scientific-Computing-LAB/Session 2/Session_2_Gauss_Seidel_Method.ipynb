{
  "nbformat": 4,
  "nbformat_minor": 0,
  "metadata": {
    "colab": {
      "provenance": [],
      "authorship_tag": "ABX9TyOslQk27Qx3i8pAkEh/+cua",
      "include_colab_link": true
    },
    "kernelspec": {
      "name": "python3",
      "display_name": "Python 3"
    },
    "language_info": {
      "name": "python"
    }
  },
  "cells": [
    {
      "cell_type": "markdown",
      "metadata": {
        "id": "view-in-github",
        "colab_type": "text"
      },
      "source": [
        "<a href=\"https://colab.research.google.com/github/Nesraik/Scientific-Computing-LAB-/blob/main/Session%202/Session_2_Gauss_Seidel_Method.ipynb\" target=\"_parent\"><img src=\"https://colab.research.google.com/assets/colab-badge.svg\" alt=\"Open In Colab\"/></a>"
      ]
    },
    {
      "cell_type": "code",
      "execution_count": null,
      "metadata": {
        "id": "ThwnYXA3tTsm"
      },
      "outputs": [],
      "source": [
        "import numpy as np\n",
        "x1 = 0\n",
        "x2 = 0\n",
        "x3 = 0\n",
        "epsilon = 0.01\n",
        "converged = False\n",
        "Old_X = np.array([x1,x2,x3])\n"
      ]
    },
    {
      "cell_type": "code",
      "source": [
        "print('Iteration Results: ')\n",
        "print('K, X1, X2, X3')\n",
        "\n",
        "for k in range(1, 50):\n",
        "  x1 = (14-3*x2 + 3*x3)/8\n",
        "  x2 = (5+2*x1-5*x3)/(-8)\n",
        "  x3 = (-8-3*x1-5*x2)/(10)\n",
        "  x = np.array([x1,x2,x3])\n",
        "  dx = np.sqrt(np.dot(x-Old_X,x-Old_X))\n",
        "  print(\"%d, %.4f, %.4f, %.4f\"%(k, x1, x2, x3))\n",
        "  if(dx<epsilon):\n",
        "    converged = True\n",
        "    print('Converged!')\n",
        "    break\n",
        "  Old_X = x\n",
        "  if(not converged):\n",
        "    print('Not Converge, increase the # of iterations')\n"
      ],
      "metadata": {
        "colab": {
          "base_uri": "https://localhost:8080/"
        },
        "id": "E-bl52M5t6Up",
        "outputId": "8ebe2f7e-358f-40de-8b49-685abf83f129"
      },
      "execution_count": null,
      "outputs": [
        {
          "output_type": "stream",
          "name": "stdout",
          "text": [
            "Iteration Results: \n",
            "K, X1, X2, X3\n",
            "1, 1.7500, -1.0625, -0.7937\n",
            "Not Converge, increase the # of iterations\n",
            "2, 1.8508, -1.5838, -0.5633\n",
            "Not Converge, increase the # of iterations\n",
            "3, 2.1327, -1.5103, -0.6847\n",
            "Not Converge, increase the # of iterations\n",
            "4, 2.0596, -1.5678, -0.6340\n",
            "Not Converge, increase the # of iterations\n",
            "5, 2.1002, -1.5463, -0.6569\n",
            "Not Converge, increase the # of iterations\n",
            "6, 2.0835, -1.5565, -0.6468\n",
            "Not Converge, increase the # of iterations\n",
            "7, 2.0911, -1.5520, -0.6513\n",
            "Converged!\n"
          ]
        }
      ]
    }
  ]
}