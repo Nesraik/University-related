{
  "cells": [
    {
      "cell_type": "markdown",
      "metadata": {
        "id": "gXZmz2-2npoD"
      },
      "source": [
        "# Importing Library"
      ]
    },
    {
      "cell_type": "code",
      "execution_count": 1,
      "metadata": {
        "id": "NbWujR_4nXdl"
      },
      "outputs": [],
      "source": [
        "from tensorflow.keras import datasets # type: ignore\n",
        "import matplotlib.pyplot as plt# type: ignore\n",
        "from sklearn.model_selection import train_test_split# type: ignore\n",
        "from keras import Sequential\n",
        "from keras.layers import Dense,Flatten,Dropout, GlobalAveragePooling2D, UpSampling2D,InputLayer, BatchNormalization # type: ignore\n",
        "import tensorflow as tf\n",
        "import cv2 # type: ignore\n",
        "import numpy as np"
      ]
    },
    {
      "cell_type": "code",
      "execution_count": 2,
      "metadata": {},
      "outputs": [],
      "source": [
        "physical_devices = tf.config.experimental.list_physical_devices('GPU')\n",
        "for gpu in physical_devices:\n",
        "    tf.config.experimental.set_memory_growth(gpu, True)"
      ]
    },
    {
      "cell_type": "markdown",
      "metadata": {
        "id": "45YKFveloLst"
      },
      "source": [
        "# Load the dataset"
      ]
    },
    {
      "cell_type": "code",
      "execution_count": 3,
      "metadata": {
        "id": "Pt1yef-QnpHF"
      },
      "outputs": [],
      "source": [
        "(x_train,y_train),(x_test,y_test) = datasets.cifar10.load_data()"
      ]
    },
    {
      "cell_type": "markdown",
      "metadata": {
        "id": "NEdWoMZepLpU"
      },
      "source": [
        "# Data Visualization"
      ]
    },
    {
      "cell_type": "code",
      "execution_count": 4,
      "metadata": {
        "colab": {
          "base_uri": "https://localhost:8080/"
        },
        "id": "ptc-sla1oJQ_",
        "outputId": "f5b05846-5667-49c3-a08f-c2e3e749d2ff"
      },
      "outputs": [
        {
          "data": {
            "text/plain": [
              "(50000, 32, 32, 3)"
            ]
          },
          "execution_count": 4,
          "metadata": {},
          "output_type": "execute_result"
        }
      ],
      "source": [
        "x_train.shape"
      ]
    },
    {
      "cell_type": "code",
      "execution_count": 5,
      "metadata": {
        "colab": {
          "base_uri": "https://localhost:8080/"
        },
        "id": "tsaUGn1VoSbW",
        "outputId": "18417d9e-710e-42a9-bb64-70f194db944c"
      },
      "outputs": [
        {
          "data": {
            "text/plain": [
              "(50000, 1)"
            ]
          },
          "execution_count": 5,
          "metadata": {},
          "output_type": "execute_result"
        }
      ],
      "source": [
        "y_train.shape"
      ]
    },
    {
      "cell_type": "code",
      "execution_count": 6,
      "metadata": {
        "colab": {
          "base_uri": "https://localhost:8080/"
        },
        "id": "UAS5Dcl0pQ80",
        "outputId": "caaa4834-b0a0-4ce5-d14d-3a9fd36a2093"
      },
      "outputs": [
        {
          "data": {
            "text/plain": [
              "(10000, 32, 32, 3)"
            ]
          },
          "execution_count": 6,
          "metadata": {},
          "output_type": "execute_result"
        }
      ],
      "source": [
        "x_test.shape"
      ]
    },
    {
      "cell_type": "code",
      "execution_count": 7,
      "metadata": {
        "colab": {
          "base_uri": "https://localhost:8080/"
        },
        "id": "cOcRcmLFpSW9",
        "outputId": "082665b0-0384-42cd-e7a5-b7c7b94ade7c"
      },
      "outputs": [
        {
          "data": {
            "text/plain": [
              "(10000, 1)"
            ]
          },
          "execution_count": 7,
          "metadata": {},
          "output_type": "execute_result"
        }
      ],
      "source": [
        "y_test.shape"
      ]
    },
    {
      "cell_type": "code",
      "execution_count": 8,
      "metadata": {
        "id": "odlKhbfVqaTw"
      },
      "outputs": [],
      "source": [
        "y_train = y_train.reshape(-1,)\n",
        "y_test = y_test.reshape(-1,)"
      ]
    },
    {
      "cell_type": "markdown",
      "metadata": {
        "id": "cVWIiyl4pzI_"
      },
      "source": [
        "## Function for unloading meta file from cifar 10 dataset website"
      ]
    },
    {
      "cell_type": "code",
      "execution_count": 9,
      "metadata": {
        "id": "06BdaZLOpn5h"
      },
      "outputs": [],
      "source": [
        "## Obtained from https://www.cs.toronto.edu/~kriz/cifar.html\n",
        "def unpickle(file):\n",
        "    import pickle\n",
        "    with open(file, 'rb') as fo:\n",
        "        dict = pickle.load(fo, encoding='bytes')\n",
        "    return dict"
      ]
    },
    {
      "cell_type": "markdown",
      "metadata": {},
      "source": [
        "# Unload meta file"
      ]
    },
    {
      "cell_type": "code",
      "execution_count": 10,
      "metadata": {
        "id": "Fg4FHPwpp8YP"
      },
      "outputs": [],
      "source": [
        "meta_data = unpickle('batches.meta')"
      ]
    },
    {
      "cell_type": "code",
      "execution_count": 11,
      "metadata": {
        "id": "NLE7KJTPqGEj"
      },
      "outputs": [],
      "source": [
        "classes = meta_data[b'label_names']\n",
        "classes = [item.decode()for item in classes]"
      ]
    },
    {
      "cell_type": "markdown",
      "metadata": {
        "id": "9UCHj6PVrmGd"
      },
      "source": [
        "# List of cifar 10 dataset class"
      ]
    },
    {
      "cell_type": "code",
      "execution_count": 12,
      "metadata": {
        "colab": {
          "base_uri": "https://localhost:8080/"
        },
        "id": "d9kTa8vwqvMG",
        "outputId": "5b6def46-959e-45ca-94fb-5c8fd0c4a636"
      },
      "outputs": [
        {
          "data": {
            "text/plain": [
              "['airplane',\n",
              " 'automobile',\n",
              " 'bird',\n",
              " 'cat',\n",
              " 'deer',\n",
              " 'dog',\n",
              " 'frog',\n",
              " 'horse',\n",
              " 'ship',\n",
              " 'truck']"
            ]
          },
          "execution_count": 12,
          "metadata": {},
          "output_type": "execute_result"
        }
      ],
      "source": [
        "classes"
      ]
    },
    {
      "cell_type": "markdown",
      "metadata": {},
      "source": [
        "# Showing sample images"
      ]
    },
    {
      "cell_type": "code",
      "execution_count": 13,
      "metadata": {
        "id": "muF61X4gpXZb"
      },
      "outputs": [],
      "source": [
        "def show_image(x,y,index):\n",
        "  plt.figure(figsize=(15,6))\n",
        "  plt.imshow(x[index])\n",
        "  plt.xlabel(classes[y[index]])"
      ]
    },
    {
      "cell_type": "code",
      "execution_count": 14,
      "metadata": {
        "colab": {
          "base_uri": "https://localhost:8080/",
          "height": 542
        },
        "id": "7W1avZrmpi7q",
        "outputId": "a85984dd-4a6d-4201-e29b-375a88208fc8"
      },
      "outputs": [
        {
          "data": {
            "image/png": "[encoded data removed]",
            "text/plain": [
              "<Figure size 1500x600 with 1 Axes>"
            ]
          },
          "metadata": {},
          "output_type": "display_data"
        }
      ],
      "source": [
        "show_image(x_train,y_train,0)"
      ]
    },
    {
      "cell_type": "code",
      "execution_count": 15,
      "metadata": {
        "colab": {
          "base_uri": "https://localhost:8080/",
          "height": 542
        },
        "id": "F2h5TEgirgho",
        "outputId": "20ae4d06-cb5b-48d0-f13f-d2faf7be7bc5"
      },
      "outputs": [
        {
          "data": {
            "image/png": "[encoded data removed]",
            "text/plain": [
              "<Figure size 1500x600 with 1 Axes>"
            ]
          },
          "metadata": {},
          "output_type": "display_data"
        }
      ],
      "source": [
        "show_image(x_test,y_test,9)"
      ]
    },
    {
      "cell_type": "markdown",
      "metadata": {},
      "source": [
        "# Splitting data"
      ]
    },
    {
      "cell_type": "markdown",
      "metadata": {},
      "source": [
        "Originally, there were 50000 training data 10000 testing data\n",
        "the ratio is 83.33% for training data and 16.67% for testing data\n",
        "\n",
        "The training data will be further split into training data and validation data, where the data split would be:\n",
        "\n",
        "Training data = 40000 (66.67%)\n",
        "\n",
        "Validation data = 10000 (16.67%)\n",
        "\n",
        "Testing data = 10000 (16.67%)"
      ]
    },
    {
      "cell_type": "code",
      "execution_count": 16,
      "metadata": {},
      "outputs": [],
      "source": [
        "x_train,x_val,y_train,y_val = train_test_split(x_train,y_train,test_size=0.2,random_state=42)"
      ]
    },
    {
      "cell_type": "code",
      "execution_count": 17,
      "metadata": {},
      "outputs": [
        {
          "name": "stdout",
          "output_type": "stream",
          "text": [
            "Training data count:  40000\n",
            "Validation data count:  10000\n",
            "Testing data count:  10000\n"
          ]
        }
      ],
      "source": [
        "print(\"Training data count: \",len(x_train))\n",
        "print(\"Validation data count: \",len(x_val))\n",
        "print(\"Testing data count: \",len(x_test))"
      ]
    },
    {
      "cell_type": "markdown",
      "metadata": {},
      "source": [
        "# Data Augmentation"
      ]
    },
    {
      "cell_type": "code",
      "execution_count": 18,
      "metadata": {},
      "outputs": [],
      "source": [
        "data_generator = tf.keras.preprocessing.image.ImageDataGenerator(\n",
        "   \n",
        "    rotation_range=20,\n",
        "    \n",
        "    width_shift_range=0.14,\n",
        "    \n",
        "    height_shift_range=0.14,\n",
        "    \n",
        "    horizontal_flip=True,\n",
        "    \n",
        "    zoom_range=0.11,\n",
        "    \n",
        "    brightness_range=[0.9,1.1],\n",
        "    \n",
        "    shear_range=0.12,\n",
        "\n",
        "    channel_shift_range=0.1,\n",
        "\n",
        ")"
      ]
    },
    {
      "cell_type": "markdown",
      "metadata": {},
      "source": [
        "Augment the training data"
      ]
    },
    {
      "cell_type": "code",
      "execution_count": 19,
      "metadata": {},
      "outputs": [],
      "source": [
        "data_generator.fit(x_train)"
      ]
    },
    {
      "cell_type": "markdown",
      "metadata": {
        "id": "T8UPpFoTr3-K"
      },
      "source": [
        "# Normalizing data to 0-1"
      ]
    },
    {
      "cell_type": "code",
      "execution_count": 20,
      "metadata": {
        "id": "cBoYSmPfrlRR"
      },
      "outputs": [],
      "source": [
        "x_train = x_train.astype(\"float32\")/255\n",
        "x_test = x_test.astype(\"float32\")/255\n",
        "x_val = x_val.astype(\"float32\")/255"
      ]
    },
    {
      "cell_type": "code",
      "execution_count": 21,
      "metadata": {
        "id": "LTDcSVqbvi84"
      },
      "outputs": [],
      "source": [
        "class_length = len(classes)"
      ]
    },
    {
      "cell_type": "code",
      "execution_count": 22,
      "metadata": {
        "colab": {
          "base_uri": "https://localhost:8080/"
        },
        "id": "1Lb_-sbs5CFD",
        "outputId": "dcece386-56a2-4e56-d9e2-be5375684c67"
      },
      "outputs": [
        {
          "data": {
            "text/plain": [
              "(40000, 32, 32, 3)"
            ]
          },
          "execution_count": 22,
          "metadata": {},
          "output_type": "execute_result"
        }
      ],
      "source": [
        "x_train.shape"
      ]
    },
    {
      "cell_type": "markdown",
      "metadata": {
        "id": "EcuibGecwZVX"
      },
      "source": [
        "# Building the model"
      ]
    },
    {
      "cell_type": "code",
      "execution_count": 23,
      "metadata": {
        "id": "DLbhT0GmwXa9"
      },
      "outputs": [],
      "source": [
        "resnet_model = tf.keras.applications.ResNet50(\n",
        "      include_top=False,\n",
        "      weights=\"imagenet\",\n",
        "      input_shape=(64, 64,3),\n",
        "      pooling = \"avg\"\n",
        "    )\n",
        "\n",
        "model = Sequential([\n",
        "    InputLayer(input_shape=(32,32,3)),\n",
        "    UpSampling2D((2,2)),\n",
        "    resnet_model,\n",
        "    Flatten(),\n",
        "    BatchNormalization(),\n",
        "    Dense(128,activation='relu'),\n",
        "    Dropout(0.25),\n",
        "    BatchNormalization(),\n",
        "    Dense(64,activation='relu'),\n",
        "    Dropout(0.25),\n",
        "    BatchNormalization(),\n",
        "    Dense(class_length,activation='softmax')\n",
        "\n",
        "])"
      ]
    },
    {
      "cell_type": "code",
      "execution_count": 24,
      "metadata": {
        "colab": {
          "base_uri": "https://localhost:8080/",
          "height": 593
        },
        "id": "CxuoIIulzZqi",
        "outputId": "051aeb59-3e33-40c3-c9ae-0b4743fb9a6f"
      },
      "outputs": [
        {
          "name": "stdout",
          "output_type": "stream",
          "text": [
            "Model: \"sequential\"\n",
            "_________________________________________________________________\n",
            " Layer (type)                Output Shape              Param #   \n",
            "=================================================================\n",
            " up_sampling2d (UpSampling2D  (None, 64, 64, 3)        0         \n",
            " )                                                               \n",
            "                                                                 \n",
            " resnet50 (Functional)       (None, 2048)              23587712  \n",
            "                                                                 \n",
            " flatten (Flatten)           (None, 2048)              0         \n",
            "                                                                 \n",
            " batch_normalization (BatchN  (None, 2048)             8192      \n",
            " ormalization)                                                   \n",
            "                                                                 \n",
            " dense (Dense)               (None, 128)               262272    \n",
            "                                                                 \n",
            " dropout (Dropout)           (None, 128)               0         \n",
            "                                                                 \n",
            " batch_normalization_1 (Batc  (None, 128)              512       \n",
            " hNormalization)                                                 \n",
            "                                                                 \n",
            " dense_1 (Dense)             (None, 64)                8256      \n",
            "                                                                 \n",
            " dropout_1 (Dropout)         (None, 64)                0         \n",
            "                                                                 \n",
            " batch_normalization_2 (Batc  (None, 64)               256       \n",
            " hNormalization)                                                 \n",
            "                                                                 \n",
            " dense_2 (Dense)             (None, 10)                650       \n",
            "                                                                 \n",
            "=================================================================\n",
            "Total params: 23,867,850\n",
            "Trainable params: 23,810,250\n",
            "Non-trainable params: 57,600\n",
            "_________________________________________________________________\n"
          ]
        }
      ],
      "source": [
        "model.summary()"
      ]
    },
    {
      "cell_type": "code",
      "execution_count": 25,
      "metadata": {},
      "outputs": [
        {
          "name": "stdout",
          "output_type": "stream",
          "text": [
            "INFO:tensorflow:Mixed precision compatibility check (mixed_float16): OK\n",
            "Your GPU will likely run quickly with dtype policy mixed_float16 as it has compute capability of at least 7.0. Your GPU: NVIDIA GeForce RTX 3050 Ti Laptop GPU, compute capability 8.6\n"
          ]
        }
      ],
      "source": [
        "from tensorflow.keras import mixed_precision # type: ignore\n",
        "policy = mixed_precision.Policy('mixed_float16')\n",
        "mixed_precision.set_global_policy('mixed_float16')"
      ]
    },
    {
      "cell_type": "code",
      "execution_count": 26,
      "metadata": {},
      "outputs": [],
      "source": [
        "early_stopping = tf.keras.callbacks.EarlyStopping(monitor='val_loss', patience=5, restore_best_weights=True)"
      ]
    },
    {
      "cell_type": "code",
      "execution_count": 27,
      "metadata": {
        "id": "2IP_ulk66zKI"
      },
      "outputs": [],
      "source": [
        "model.compile(optimizer=tf.keras.optimizers.RMSprop(learning_rate=2e-5),loss='sparse_categorical_crossentropy',metrics=['accuracy'])"
      ]
    },
    {
      "cell_type": "code",
      "execution_count": 28,
      "metadata": {
        "colab": {
          "background_save": true,
          "base_uri": "https://localhost:8080/"
        },
        "id": "b_h2LiNo7GAx",
        "outputId": "f00908a9-e97b-404a-d434-2b1377aa7f84"
      },
      "outputs": [
        {
          "name": "stdout",
          "output_type": "stream",
          "text": [
            "Epoch 1/10\n",
            "2500/2500 [==============================] - 355s 136ms/step - loss: 1.8969 - accuracy: 0.3780 - val_loss: 0.9574 - val_accuracy: 0.7015\n",
            "Epoch 2/10\n",
            "2500/2500 [==============================] - 341s 136ms/step - loss: 1.0651 - accuracy: 0.6661 - val_loss: 0.5989 - val_accuracy: 0.8114\n",
            "Epoch 3/10\n",
            "2500/2500 [==============================] - 341s 136ms/step - loss: 0.7953 - accuracy: 0.7586 - val_loss: 0.4891 - val_accuracy: 0.8471\n",
            "Epoch 4/10\n",
            "2500/2500 [==============================] - 338s 135ms/step - loss: 0.6214 - accuracy: 0.8160 - val_loss: 0.4370 - val_accuracy: 0.8648\n",
            "Epoch 5/10\n",
            "2500/2500 [==============================] - 339s 135ms/step - loss: 0.4915 - accuracy: 0.8560 - val_loss: 0.4108 - val_accuracy: 0.8735\n",
            "Epoch 6/10\n",
            "2500/2500 [==============================] - 342s 137ms/step - loss: 0.3930 - accuracy: 0.8914 - val_loss: 0.3928 - val_accuracy: 0.8818\n",
            "Epoch 7/10\n",
            "2500/2500 [==============================] - 346s 138ms/step - loss: 0.3074 - accuracy: 0.9176 - val_loss: 0.3927 - val_accuracy: 0.8877\n",
            "Epoch 8/10\n",
            "2500/2500 [==============================] - 348s 139ms/step - loss: 0.2481 - accuracy: 0.9345 - val_loss: 0.4012 - val_accuracy: 0.8867\n",
            "Epoch 9/10\n",
            "2500/2500 [==============================] - 347s 139ms/step - loss: 0.1913 - accuracy: 0.9518 - val_loss: 0.4122 - val_accuracy: 0.8876\n",
            "Epoch 10/10\n",
            "2500/2500 [==============================] - 346s 138ms/step - loss: 0.1553 - accuracy: 0.9617 - val_loss: 0.4168 - val_accuracy: 0.8878\n"
          ]
        }
      ],
      "source": [
        "history = model.fit(x_train,y_train,epochs=10,validation_data=(x_val,y_val),batch_size = 16, callbacks=[early_stopping])"
      ]
    },
    {
      "cell_type": "code",
      "execution_count": 29,
      "metadata": {},
      "outputs": [],
      "source": [
        "model.save(\"ResNet50.h5\")"
      ]
    },
    {
      "cell_type": "code",
      "execution_count": 30,
      "metadata": {},
      "outputs": [],
      "source": [
        "from tensorflow.keras.models import load_model # type: ignore\n",
        "\n",
        "model = load_model(\"ResNet50.h5\")  "
      ]
    },
    {
      "cell_type": "code",
      "execution_count": 31,
      "metadata": {},
      "outputs": [
        {
          "name": "stdout",
          "output_type": "stream",
          "text": [
            "313/313 [==============================] - 9s 23ms/step - loss: 0.4128 - accuracy: 0.8891\n",
            "Accuracy: 88.91000151634216%\n"
          ]
        }
      ],
      "source": [
        "loss,accuracy = model.evaluate(x_test,y_test)\n",
        "\n",
        "print(\"Accuracy: \" + str(accuracy*100) + \"%\")"
      ]
    },
    {
      "cell_type": "code",
      "execution_count": 32,
      "metadata": {},
      "outputs": [
        {
          "data": {
            "image/png": "[encoded data removed]",
            "text/plain": [
              "<Figure size 1500x600 with 1 Axes>"
            ]
          },
          "metadata": {},
          "output_type": "display_data"
        }
      ],
      "source": [
        "plt.figure(figsize=(15,6))\n",
        "plt.plot(history.history['accuracy'],label = 'Training Accuracy')\n",
        "plt.plot(history.history['val_accuracy'],label = 'Validation accuracy')\n",
        "plt.title('Accuracy')\n",
        "plt.xlabel('EPOCH')\n",
        "plt.ylabel('Accuracy')\n",
        "plt.legend()\n",
        "plt.show()"
      ]
    },
    {
      "cell_type": "code",
      "execution_count": 33,
      "metadata": {
        "colab": {
          "background_save": true
        },
        "id": "aGGapPIYFBWs"
      },
      "outputs": [
        {
          "data": {
            "image/png": "[encoded data removed]",
            "text/plain": [
              "<Figure size 1500x600 with 1 Axes>"
            ]
          },
          "metadata": {},
          "output_type": "display_data"
        }
      ],
      "source": [
        "plt.figure(figsize=(15,6))\n",
        "plt.plot(history.history['loss'],label = 'Training loss')\n",
        "plt.plot(history.history['val_loss'],label = 'Validation loss')\n",
        "plt.title('Loss')\n",
        "plt.xlabel('EPOCH')\n",
        "plt.ylabel('Loss')\n",
        "plt.legend()\n",
        "plt.show()"
      ]
    }
  ],
  "metadata": {
    "colab": {
      "provenance": []
    },
    "kernelspec": {
      "display_name": "Python 3",
      "name": "python3"
    },
    "language_info": {
      "codemirror_mode": {
        "name": "ipython",
        "version": 3
      },
      "file_extension": ".py",
      "mimetype": "text/x-python",
      "name": "python",
      "nbconvert_exporter": "python",
      "pygments_lexer": "ipython3",
      "version": "3.10.0"
    }
  },
  "nbformat": 4,
  "nbformat_minor": 0
}
