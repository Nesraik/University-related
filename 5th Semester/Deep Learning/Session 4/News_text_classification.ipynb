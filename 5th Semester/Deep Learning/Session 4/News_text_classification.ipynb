{
  "cells": [
    {
      "cell_type": "markdown",
      "metadata": {
        "id": "t2GiP4OQUais"
      },
      "source": [
        "# Importing library"
      ]
    },
    {
      "cell_type": "code",
      "execution_count": 1,
      "metadata": {
        "id": "b5fkEiMCUaiu"
      },
      "outputs": [
        {
          "name": "stderr",
          "output_type": "stream",
          "text": [
            "c:\\Users\\usern\\anaconda3\\envs\\Deep_Learning_TF\\lib\\site-packages\\tqdm\\auto.py:21: TqdmWarning: IProgress not found. Please update jupyter and ipywidgets. See https://ipywidgets.readthedocs.io/en/stable/user_install.html\n",
            "  from .autonotebook import tqdm as notebook_tqdm\n"
          ]
        }
      ],
      "source": [
        "import pandas as pd\n",
        "from imblearn.under_sampling import RandomUnderSampler\n",
        "from transformers import AutoTokenizer, TFAutoModelForSequenceClassification\n",
        "import matplotlib.pyplot as plt\n",
        "from datasets import Dataset\n",
        "from sklearn.model_selection import train_test_split\n",
        "from sklearn.preprocessing import LabelEncoder\n",
        "import tensorflow as tf\n",
        "import numpy as np\n",
        "from tensorflow.keras import mixed_precision# type: ignore\n",
        "import pickle"
      ]
    },
    {
      "cell_type": "code",
      "execution_count": 2,
      "metadata": {},
      "outputs": [],
      "source": [
        "tf.keras.backend.clear_session()"
      ]
    },
    {
      "cell_type": "code",
      "execution_count": 3,
      "metadata": {},
      "outputs": [],
      "source": [
        "physical_devices = tf.config.experimental.list_physical_devices('GPU')\n",
        "for gpu in physical_devices:\n",
        "    tf.config.experimental.set_memory_growth(gpu, True)"
      ]
    },
    {
      "cell_type": "markdown",
      "metadata": {
        "id": "MiS8lZPdUaiv"
      },
      "source": [
        "# Load the dataset"
      ]
    },
    {
      "cell_type": "code",
      "execution_count": 4,
      "metadata": {
        "id": "aIjhyAGxUaiw"
      },
      "outputs": [],
      "source": [
        "data = pd.read_json('News_Category_Dataset_v3.json',lines=True)"
      ]
    },
    {
      "cell_type": "code",
      "execution_count": 5,
      "metadata": {
        "colab": {
          "base_uri": "https://localhost:8080/",
          "height": 0
        },
        "id": "4oduJha8Uaiw",
        "outputId": "991c7002-8c3d-4613-fb45-282899992a65"
      },
      "outputs": [
        {
          "data": {
            "text/html": [
              "<div>\n",
              "<style scoped>\n",
              "    .dataframe tbody tr th:only-of-type {\n",
              "        vertical-align: middle;\n",
              "    }\n",
              "\n",
              "    .dataframe tbody tr th {\n",
              "        vertical-align: top;\n",
              "    }\n",
              "\n",
              "    .dataframe thead th {\n",
              "        text-align: right;\n",
              "    }\n",
              "</style>\n",
              "<table border=\"1\" class=\"dataframe\">\n",
              "  <thead>\n",
              "    <tr style=\"text-align: right;\">\n",
              "      <th></th>\n",
              "      <th>link</th>\n",
              "      <th>headline</th>\n",
              "      <th>category</th>\n",
              "      <th>short_description</th>\n",
              "      <th>authors</th>\n",
              "      <th>date</th>\n",
              "    </tr>\n",
              "  </thead>\n",
              "  <tbody>\n",
              "    <tr>\n",
              "      <th>0</th>\n",
              "      <td>https://www.huffpost.com/entry/covid-boosters-...</td>\n",
              "      <td>Over 4 Million Americans Roll Up Sleeves For O...</td>\n",
              "      <td>U.S. NEWS</td>\n",
              "      <td>Health experts said it is too early to predict...</td>\n",
              "      <td>Carla K. Johnson, AP</td>\n",
              "      <td>2022-09-23</td>\n",
              "    </tr>\n",
              "    <tr>\n",
              "      <th>1</th>\n",
              "      <td>https://www.huffpost.com/entry/american-airlin...</td>\n",
              "      <td>American Airlines Flyer Charged, Banned For Li...</td>\n",
              "      <td>U.S. NEWS</td>\n",
              "      <td>He was subdued by passengers and crew when he ...</td>\n",
              "      <td>Mary Papenfuss</td>\n",
              "      <td>2022-09-23</td>\n",
              "    </tr>\n",
              "    <tr>\n",
              "      <th>2</th>\n",
              "      <td>https://www.huffpost.com/entry/funniest-tweets...</td>\n",
              "      <td>23 Of The Funniest Tweets About Cats And Dogs ...</td>\n",
              "      <td>COMEDY</td>\n",
              "      <td>\"Until you have a dog you don't understand wha...</td>\n",
              "      <td>Elyse Wanshel</td>\n",
              "      <td>2022-09-23</td>\n",
              "    </tr>\n",
              "    <tr>\n",
              "      <th>3</th>\n",
              "      <td>https://www.huffpost.com/entry/funniest-parent...</td>\n",
              "      <td>The Funniest Tweets From Parents This Week (Se...</td>\n",
              "      <td>PARENTING</td>\n",
              "      <td>\"Accidentally put grown-up toothpaste on my to...</td>\n",
              "      <td>Caroline Bologna</td>\n",
              "      <td>2022-09-23</td>\n",
              "    </tr>\n",
              "    <tr>\n",
              "      <th>4</th>\n",
              "      <td>https://www.huffpost.com/entry/amy-cooper-lose...</td>\n",
              "      <td>Woman Who Called Cops On Black Bird-Watcher Lo...</td>\n",
              "      <td>U.S. NEWS</td>\n",
              "      <td>Amy Cooper accused investment firm Franklin Te...</td>\n",
              "      <td>Nina Golgowski</td>\n",
              "      <td>2022-09-22</td>\n",
              "    </tr>\n",
              "  </tbody>\n",
              "</table>\n",
              "</div>"
            ],
            "text/plain": [
              "                                                link  \\\n",
              "0  https://www.huffpost.com/entry/covid-boosters-...   \n",
              "1  https://www.huffpost.com/entry/american-airlin...   \n",
              "2  https://www.huffpost.com/entry/funniest-tweets...   \n",
              "3  https://www.huffpost.com/entry/funniest-parent...   \n",
              "4  https://www.huffpost.com/entry/amy-cooper-lose...   \n",
              "\n",
              "                                            headline   category  \\\n",
              "0  Over 4 Million Americans Roll Up Sleeves For O...  U.S. NEWS   \n",
              "1  American Airlines Flyer Charged, Banned For Li...  U.S. NEWS   \n",
              "2  23 Of The Funniest Tweets About Cats And Dogs ...     COMEDY   \n",
              "3  The Funniest Tweets From Parents This Week (Se...  PARENTING   \n",
              "4  Woman Who Called Cops On Black Bird-Watcher Lo...  U.S. NEWS   \n",
              "\n",
              "                                   short_description               authors  \\\n",
              "0  Health experts said it is too early to predict...  Carla K. Johnson, AP   \n",
              "1  He was subdued by passengers and crew when he ...        Mary Papenfuss   \n",
              "2  \"Until you have a dog you don't understand wha...         Elyse Wanshel   \n",
              "3  \"Accidentally put grown-up toothpaste on my to...      Caroline Bologna   \n",
              "4  Amy Cooper accused investment firm Franklin Te...        Nina Golgowski   \n",
              "\n",
              "        date  \n",
              "0 2022-09-23  \n",
              "1 2022-09-23  \n",
              "2 2022-09-23  \n",
              "3 2022-09-23  \n",
              "4 2022-09-22  "
            ]
          },
          "execution_count": 5,
          "metadata": {},
          "output_type": "execute_result"
        }
      ],
      "source": [
        "data.head()"
      ]
    },
    {
      "cell_type": "markdown",
      "metadata": {
        "id": "Vm46IA5LUaiw"
      },
      "source": [
        "# Data visualization"
      ]
    },
    {
      "cell_type": "code",
      "execution_count": 6,
      "metadata": {
        "colab": {
          "base_uri": "https://localhost:8080/"
        },
        "id": "BmwzUKedUaiw",
        "outputId": "e5074d25-5dc0-49d7-84fd-df03733f85ce"
      },
      "outputs": [
        {
          "name": "stdout",
          "output_type": "stream",
          "text": [
            "<class 'pandas.core.frame.DataFrame'>\n",
            "RangeIndex: 209527 entries, 0 to 209526\n",
            "Data columns (total 6 columns):\n",
            " #   Column             Non-Null Count   Dtype         \n",
            "---  ------             --------------   -----         \n",
            " 0   link               209527 non-null  object        \n",
            " 1   headline           209527 non-null  object        \n",
            " 2   category           209527 non-null  object        \n",
            " 3   short_description  209527 non-null  object        \n",
            " 4   authors            209527 non-null  object        \n",
            " 5   date               209527 non-null  datetime64[ns]\n",
            "dtypes: datetime64[ns](1), object(5)\n",
            "memory usage: 9.6+ MB\n"
          ]
        }
      ],
      "source": [
        "data.info()"
      ]
    },
    {
      "cell_type": "code",
      "execution_count": 7,
      "metadata": {
        "colab": {
          "base_uri": "https://localhost:8080/",
          "height": 1000
        },
        "id": "oW8ROSd_Uaiw",
        "outputId": "9bd412dc-a5ae-410e-c27a-7d3f6f555716"
      },
      "outputs": [
        {
          "data": {
            "text/plain": [
              "POLITICS          35602\n",
              "WELLNESS          17945\n",
              "ENTERTAINMENT     17362\n",
              "TRAVEL             9900\n",
              "STYLE & BEAUTY     9814\n",
              "PARENTING          8791\n",
              "HEALTHY LIVING     6694\n",
              "QUEER VOICES       6347\n",
              "FOOD & DRINK       6340\n",
              "BUSINESS           5992\n",
              "COMEDY             5400\n",
              "SPORTS             5077\n",
              "BLACK VOICES       4583\n",
              "HOME & LIVING      4320\n",
              "PARENTS            3955\n",
              "THE WORLDPOST      3664\n",
              "WEDDINGS           3653\n",
              "WOMEN              3572\n",
              "CRIME              3562\n",
              "IMPACT             3484\n",
              "DIVORCE            3426\n",
              "WORLD NEWS         3299\n",
              "MEDIA              2944\n",
              "WEIRD NEWS         2777\n",
              "GREEN              2622\n",
              "WORLDPOST          2579\n",
              "RELIGION           2577\n",
              "STYLE              2254\n",
              "SCIENCE            2206\n",
              "TECH               2104\n",
              "TASTE              2096\n",
              "MONEY              1756\n",
              "ARTS               1509\n",
              "ENVIRONMENT        1444\n",
              "FIFTY              1401\n",
              "GOOD NEWS          1398\n",
              "U.S. NEWS          1377\n",
              "ARTS & CULTURE     1339\n",
              "COLLEGE            1144\n",
              "LATINO VOICES      1130\n",
              "CULTURE & ARTS     1074\n",
              "EDUCATION          1014\n",
              "Name: category, dtype: int64"
            ]
          },
          "execution_count": 7,
          "metadata": {},
          "output_type": "execute_result"
        }
      ],
      "source": [
        "data['category'].value_counts()"
      ]
    },
    {
      "cell_type": "code",
      "execution_count": 8,
      "metadata": {
        "colab": {
          "base_uri": "https://localhost:8080/"
        },
        "id": "TahSDvEpUaiw",
        "outputId": "9d8644e8-b968-45a0-f5d5-52e3b34b3858"
      },
      "outputs": [
        {
          "data": {
            "text/plain": [
              "42"
            ]
          },
          "execution_count": 8,
          "metadata": {},
          "output_type": "execute_result"
        }
      ],
      "source": [
        "len(data['category'].value_counts())"
      ]
    },
    {
      "cell_type": "code",
      "execution_count": 9,
      "metadata": {
        "colab": {
          "base_uri": "https://localhost:8080/"
        },
        "id": "UrBMhsiLUaiw",
        "outputId": "0f7a3d20-4187-46d9-9c33-33a30ffb2421"
      },
      "outputs": [
        {
          "data": {
            "text/plain": [
              "209527"
            ]
          },
          "execution_count": 9,
          "metadata": {},
          "output_type": "execute_result"
        }
      ],
      "source": [
        "len(data)"
      ]
    },
    {
      "cell_type": "markdown",
      "metadata": {
        "id": "ZANhTL8zUaix"
      },
      "source": [
        "# Data preprocessing"
      ]
    },
    {
      "cell_type": "markdown",
      "metadata": {
        "id": "qWEBE2hgUaix"
      },
      "source": [
        "The headlines and short description of the news will be used for the model to train"
      ]
    },
    {
      "cell_type": "code",
      "execution_count": 10,
      "metadata": {
        "id": "EjyIanGyUaix"
      },
      "outputs": [],
      "source": [
        "data['text'] = data['headline'] + ' ' + data['short_description']"
      ]
    },
    {
      "cell_type": "code",
      "execution_count": 11,
      "metadata": {
        "colab": {
          "base_uri": "https://localhost:8080/",
          "height": 52
        },
        "id": "sMvpq_o7Uaix",
        "outputId": "6aa3c623-8546-472d-8315-37ff84c2be6a"
      },
      "outputs": [
        {
          "data": {
            "text/plain": [
              "'Over 4 Million Americans Roll Up Sleeves For Omicron-Targeted COVID Boosters Health experts said it is too early to predict whether demand would match up with the 171 million doses of the new boosters the U.S. ordered for the fall.'"
            ]
          },
          "execution_count": 11,
          "metadata": {},
          "output_type": "execute_result"
        }
      ],
      "source": [
        "data['text'][0]"
      ]
    },
    {
      "cell_type": "markdown",
      "metadata": {
        "id": "0jJyTbAVUaix"
      },
      "source": [
        "Filter unnecessary categories from the dataset"
      ]
    },
    {
      "cell_type": "code",
      "execution_count": 12,
      "metadata": {
        "colab": {
          "base_uri": "https://localhost:8080/",
          "height": 379
        },
        "id": "ezwp3amQUaiy",
        "outputId": "1e665514-95e3-4396-b417-4633e3cc906d",
        "vscode": {
          "languageId": "javascript"
        }
      },
      "outputs": [
        {
          "data": {
            "text/html": [
              "<div>\n",
              "<style scoped>\n",
              "    .dataframe tbody tr th:only-of-type {\n",
              "        vertical-align: middle;\n",
              "    }\n",
              "\n",
              "    .dataframe tbody tr th {\n",
              "        vertical-align: top;\n",
              "    }\n",
              "\n",
              "    .dataframe thead th {\n",
              "        text-align: right;\n",
              "    }\n",
              "</style>\n",
              "<table border=\"1\" class=\"dataframe\">\n",
              "  <thead>\n",
              "    <tr style=\"text-align: right;\">\n",
              "      <th></th>\n",
              "      <th>link</th>\n",
              "      <th>headline</th>\n",
              "      <th>category</th>\n",
              "      <th>short_description</th>\n",
              "      <th>authors</th>\n",
              "      <th>date</th>\n",
              "      <th>text</th>\n",
              "    </tr>\n",
              "  </thead>\n",
              "  <tbody>\n",
              "    <tr>\n",
              "      <th>13</th>\n",
              "      <td>https://www.huffpost.com/entry/twitch-streamer...</td>\n",
              "      <td>Twitch Bans Gambling Sites After Streamer Scam...</td>\n",
              "      <td>TECH</td>\n",
              "      <td>One man's claims that he scammed people on the...</td>\n",
              "      <td>Ben Blanchet</td>\n",
              "      <td>2022-09-21</td>\n",
              "      <td>Twitch Bans Gambling Sites After Streamer Scam...</td>\n",
              "    </tr>\n",
              "    <tr>\n",
              "      <th>17</th>\n",
              "      <td>https://www.huffpost.com/entry/dodgers-basebal...</td>\n",
              "      <td>Maury Wills, Base-Stealing Shortstop For Dodge...</td>\n",
              "      <td>SPORTS</td>\n",
              "      <td>Maury Wills, who helped the Los Angeles Dodger...</td>\n",
              "      <td>Beth Harris, AP</td>\n",
              "      <td>2022-09-20</td>\n",
              "      <td>Maury Wills, Base-Stealing Shortstop For Dodge...</td>\n",
              "    </tr>\n",
              "    <tr>\n",
              "      <th>20</th>\n",
              "      <td>https://www.huffpost.com/entry/golden-globes-r...</td>\n",
              "      <td>Golden Globes Returning To NBC In January Afte...</td>\n",
              "      <td>ENTERTAINMENT</td>\n",
              "      <td>For the past 18 months, Hollywood has effectiv...</td>\n",
              "      <td></td>\n",
              "      <td>2022-09-20</td>\n",
              "      <td>Golden Globes Returning To NBC In January Afte...</td>\n",
              "    </tr>\n",
              "    <tr>\n",
              "      <th>21</th>\n",
              "      <td>https://www.huffpost.com/entry/biden-us-forces...</td>\n",
              "      <td>Biden Says U.S. Forces Would Defend Taiwan If ...</td>\n",
              "      <td>POLITICS</td>\n",
              "      <td>President issues vow as tensions with China rise.</td>\n",
              "      <td></td>\n",
              "      <td>2022-09-19</td>\n",
              "      <td>Biden Says U.S. Forces Would Defend Taiwan If ...</td>\n",
              "    </tr>\n",
              "    <tr>\n",
              "      <th>24</th>\n",
              "      <td>https://www.huffpost.com/entry/ukraine-festiva...</td>\n",
              "      <td>‘Beautiful And Sad At The Same Time’: Ukrainia...</td>\n",
              "      <td>POLITICS</td>\n",
              "      <td>An annual celebration took on a different feel...</td>\n",
              "      <td>Jonathan Nicholson</td>\n",
              "      <td>2022-09-19</td>\n",
              "      <td>‘Beautiful And Sad At The Same Time’: Ukrainia...</td>\n",
              "    </tr>\n",
              "  </tbody>\n",
              "</table>\n",
              "</div>"
            ],
            "text/plain": [
              "                                                 link  \\\n",
              "13  https://www.huffpost.com/entry/twitch-streamer...   \n",
              "17  https://www.huffpost.com/entry/dodgers-basebal...   \n",
              "20  https://www.huffpost.com/entry/golden-globes-r...   \n",
              "21  https://www.huffpost.com/entry/biden-us-forces...   \n",
              "24  https://www.huffpost.com/entry/ukraine-festiva...   \n",
              "\n",
              "                                             headline       category  \\\n",
              "13  Twitch Bans Gambling Sites After Streamer Scam...           TECH   \n",
              "17  Maury Wills, Base-Stealing Shortstop For Dodge...         SPORTS   \n",
              "20  Golden Globes Returning To NBC In January Afte...  ENTERTAINMENT   \n",
              "21  Biden Says U.S. Forces Would Defend Taiwan If ...       POLITICS   \n",
              "24  ‘Beautiful And Sad At The Same Time’: Ukrainia...       POLITICS   \n",
              "\n",
              "                                    short_description             authors  \\\n",
              "13  One man's claims that he scammed people on the...        Ben Blanchet   \n",
              "17  Maury Wills, who helped the Los Angeles Dodger...     Beth Harris, AP   \n",
              "20  For the past 18 months, Hollywood has effectiv...                       \n",
              "21  President issues vow as tensions with China rise.                       \n",
              "24  An annual celebration took on a different feel...  Jonathan Nicholson   \n",
              "\n",
              "         date                                               text  \n",
              "13 2022-09-21  Twitch Bans Gambling Sites After Streamer Scam...  \n",
              "17 2022-09-20  Maury Wills, Base-Stealing Shortstop For Dodge...  \n",
              "20 2022-09-20  Golden Globes Returning To NBC In January Afte...  \n",
              "21 2022-09-19  Biden Says U.S. Forces Would Defend Taiwan If ...  \n",
              "24 2022-09-19  ‘Beautiful And Sad At The Same Time’: Ukrainia...  "
            ]
          },
          "execution_count": 12,
          "metadata": {},
          "output_type": "execute_result"
        }
      ],
      "source": [
        "categories_to_keep = [\n",
        "    'POLITICS', 'WELLNESS', 'ENTERTAINMENT', 'TRAVEL',\n",
        "    'BUSINESS', 'SPORTS', 'TECH', 'SCIENCE',\n",
        "    'HEALTHY LIVING', 'RELIGION'\n",
        "]\n",
        "\n",
        "data = data[data['category'].isin(categories_to_keep)]\n",
        "data.head()"
      ]
    },
    {
      "cell_type": "code",
      "execution_count": 13,
      "metadata": {
        "colab": {
          "base_uri": "https://localhost:8080/",
          "height": 429
        },
        "id": "DymGRmH4Uaiy",
        "outputId": "3ebb0509-f383-4e24-92cb-7177f93ea71b",
        "vscode": {
          "languageId": "javascript"
        }
      },
      "outputs": [
        {
          "data": {
            "text/plain": [
              "POLITICS          35602\n",
              "WELLNESS          17945\n",
              "ENTERTAINMENT     17362\n",
              "TRAVEL             9900\n",
              "HEALTHY LIVING     6694\n",
              "BUSINESS           5992\n",
              "SPORTS             5077\n",
              "RELIGION           2577\n",
              "SCIENCE            2206\n",
              "TECH               2104\n",
              "Name: category, dtype: int64"
            ]
          },
          "execution_count": 13,
          "metadata": {},
          "output_type": "execute_result"
        }
      ],
      "source": [
        "data['category'].value_counts()"
      ]
    },
    {
      "cell_type": "markdown",
      "metadata": {
        "id": "fOuvPG1TUaiy"
      },
      "source": [
        "Combine HEALTHY LIVING and WELLNESS into one category since they are related"
      ]
    },
    {
      "cell_type": "code",
      "execution_count": 14,
      "metadata": {
        "colab": {
          "base_uri": "https://localhost:8080/",
          "height": 397
        },
        "id": "3RqLCzwSUaiy",
        "outputId": "4d43ef27-a1d0-46f0-9477-c4e7a976addb",
        "vscode": {
          "languageId": "javascript"
        }
      },
      "outputs": [
        {
          "data": {
            "text/plain": [
              "POLITICS         35602\n",
              "WELLNESS         24639\n",
              "ENTERTAINMENT    17362\n",
              "TRAVEL            9900\n",
              "BUSINESS          5992\n",
              "SPORTS            5077\n",
              "RELIGION          2577\n",
              "SCIENCE           2206\n",
              "TECH              2104\n",
              "Name: category, dtype: int64"
            ]
          },
          "execution_count": 14,
          "metadata": {},
          "output_type": "execute_result"
        }
      ],
      "source": [
        "data['category'] = data['category'].replace('HEALTHY LIVING', 'WELLNESS')\n",
        "data['category'].value_counts()"
      ]
    },
    {
      "cell_type": "markdown",
      "metadata": {
        "id": "VN_Lcd1PUaiz"
      },
      "source": [
        "Combine TECH and Science into one category since they are related"
      ]
    },
    {
      "cell_type": "code",
      "execution_count": 15,
      "metadata": {
        "colab": {
          "base_uri": "https://localhost:8080/",
          "height": 366
        },
        "id": "4yzmK1izUaiz",
        "outputId": "42aaede8-d5c2-46de-f254-6dd0825eb15b",
        "vscode": {
          "languageId": "javascript"
        }
      },
      "outputs": [
        {
          "data": {
            "text/plain": [
              "POLITICS            35602\n",
              "WELLNESS            24639\n",
              "ENTERTAINMENT       17362\n",
              "TRAVEL               9900\n",
              "BUSINESS             5992\n",
              "SPORTS               5077\n",
              "TECH and SCIENCE     4310\n",
              "RELIGION             2577\n",
              "Name: category, dtype: int64"
            ]
          },
          "execution_count": 15,
          "metadata": {},
          "output_type": "execute_result"
        }
      ],
      "source": [
        "data['category'] = data['category'].replace(['TECH', 'SCIENCE'], 'TECH and SCIENCE')\n",
        "data['category'].value_counts()"
      ]
    },
    {
      "cell_type": "markdown",
      "metadata": {
        "id": "uQjT9eKQUaiz"
      },
      "source": [
        "Discarding RELIGION category since the data is quite low.\n",
        "\n",
        "Hence, these 7 categories will be used as the labels for classification task"
      ]
    },
    {
      "cell_type": "code",
      "execution_count": 16,
      "metadata": {
        "colab": {
          "base_uri": "https://localhost:8080/",
          "height": 335
        },
        "id": "2747rez1Uaiz",
        "outputId": "91cf432a-3e92-41e4-d4a8-8de047688a52",
        "vscode": {
          "languageId": "javascript"
        }
      },
      "outputs": [
        {
          "data": {
            "text/plain": [
              "POLITICS            35602\n",
              "WELLNESS            24639\n",
              "ENTERTAINMENT       17362\n",
              "TRAVEL               9900\n",
              "BUSINESS             5992\n",
              "SPORTS               5077\n",
              "TECH and SCIENCE     4310\n",
              "Name: category, dtype: int64"
            ]
          },
          "execution_count": 16,
          "metadata": {},
          "output_type": "execute_result"
        }
      ],
      "source": [
        "data = data[data['category'] != 'RELIGION']\n",
        "data['category'].value_counts()"
      ]
    },
    {
      "cell_type": "markdown",
      "metadata": {
        "id": "8yV07c-XUaiz"
      },
      "source": [
        "Dropping unnecessary columns"
      ]
    },
    {
      "cell_type": "code",
      "execution_count": 17,
      "metadata": {
        "id": "z5p82iUtUaiz"
      },
      "outputs": [],
      "source": [
        "columns_to_drop = ['authors','link','headline','short_description','date']\n",
        "\n",
        "data.drop(columns=columns_to_drop,inplace=True)"
      ]
    },
    {
      "cell_type": "code",
      "execution_count": 18,
      "metadata": {
        "colab": {
          "base_uri": "https://localhost:8080/",
          "height": 206
        },
        "id": "9ZrU6IcRUaiz",
        "outputId": "885cf9cb-b210-4b5a-db9f-b7bf4894ba4a"
      },
      "outputs": [
        {
          "data": {
            "text/html": [
              "<div>\n",
              "<style scoped>\n",
              "    .dataframe tbody tr th:only-of-type {\n",
              "        vertical-align: middle;\n",
              "    }\n",
              "\n",
              "    .dataframe tbody tr th {\n",
              "        vertical-align: top;\n",
              "    }\n",
              "\n",
              "    .dataframe thead th {\n",
              "        text-align: right;\n",
              "    }\n",
              "</style>\n",
              "<table border=\"1\" class=\"dataframe\">\n",
              "  <thead>\n",
              "    <tr style=\"text-align: right;\">\n",
              "      <th></th>\n",
              "      <th>category</th>\n",
              "      <th>text</th>\n",
              "    </tr>\n",
              "  </thead>\n",
              "  <tbody>\n",
              "    <tr>\n",
              "      <th>13</th>\n",
              "      <td>TECH and SCIENCE</td>\n",
              "      <td>Twitch Bans Gambling Sites After Streamer Scam...</td>\n",
              "    </tr>\n",
              "    <tr>\n",
              "      <th>17</th>\n",
              "      <td>SPORTS</td>\n",
              "      <td>Maury Wills, Base-Stealing Shortstop For Dodge...</td>\n",
              "    </tr>\n",
              "    <tr>\n",
              "      <th>20</th>\n",
              "      <td>ENTERTAINMENT</td>\n",
              "      <td>Golden Globes Returning To NBC In January Afte...</td>\n",
              "    </tr>\n",
              "    <tr>\n",
              "      <th>21</th>\n",
              "      <td>POLITICS</td>\n",
              "      <td>Biden Says U.S. Forces Would Defend Taiwan If ...</td>\n",
              "    </tr>\n",
              "    <tr>\n",
              "      <th>24</th>\n",
              "      <td>POLITICS</td>\n",
              "      <td>‘Beautiful And Sad At The Same Time’: Ukrainia...</td>\n",
              "    </tr>\n",
              "  </tbody>\n",
              "</table>\n",
              "</div>"
            ],
            "text/plain": [
              "            category                                               text\n",
              "13  TECH and SCIENCE  Twitch Bans Gambling Sites After Streamer Scam...\n",
              "17            SPORTS  Maury Wills, Base-Stealing Shortstop For Dodge...\n",
              "20     ENTERTAINMENT  Golden Globes Returning To NBC In January Afte...\n",
              "21          POLITICS  Biden Says U.S. Forces Would Defend Taiwan If ...\n",
              "24          POLITICS  ‘Beautiful And Sad At The Same Time’: Ukrainia..."
            ]
          },
          "execution_count": 18,
          "metadata": {},
          "output_type": "execute_result"
        }
      ],
      "source": [
        "data.head()"
      ]
    },
    {
      "cell_type": "markdown",
      "metadata": {
        "id": "tEfcxORLUaiz"
      },
      "source": [
        "Balancing the dataset"
      ]
    },
    {
      "cell_type": "code",
      "execution_count": 19,
      "metadata": {
        "id": "_rOwDPX0Uaiz"
      },
      "outputs": [],
      "source": [
        "RUS = RandomUnderSampler(random_state=42)\n",
        "\n",
        "x = data.drop(columns=['category'])\n",
        "y = data['category']\n",
        "\n",
        "x_resampled, y_resampled = RUS.fit_resample(x,y)\n",
        "\n",
        "data = pd.concat([x_resampled,y_resampled],axis=1,join='inner')"
      ]
    },
    {
      "cell_type": "code",
      "execution_count": 20,
      "metadata": {
        "colab": {
          "base_uri": "https://localhost:8080/",
          "height": 335
        },
        "id": "B0zaEu6uUai0",
        "outputId": "f80d5cdf-44aa-4508-e96a-7c918387cd9c"
      },
      "outputs": [
        {
          "data": {
            "text/plain": [
              "BUSINESS            4310\n",
              "ENTERTAINMENT       4310\n",
              "POLITICS            4310\n",
              "SPORTS              4310\n",
              "TECH and SCIENCE    4310\n",
              "TRAVEL              4310\n",
              "WELLNESS            4310\n",
              "Name: category, dtype: int64"
            ]
          },
          "execution_count": 20,
          "metadata": {},
          "output_type": "execute_result"
        }
      ],
      "source": [
        "data['category'].value_counts()"
      ]
    },
    {
      "cell_type": "markdown",
      "metadata": {
        "id": "j6WS6HiCUai0"
      },
      "source": [
        "Label Encoding"
      ]
    },
    {
      "cell_type": "code",
      "execution_count": 21,
      "metadata": {
        "id": "tHrdYHIbUai0"
      },
      "outputs": [],
      "source": [
        "encoder = LabelEncoder()\n",
        "data['category'] = encoder.fit_transform(data['category'])"
      ]
    },
    {
      "cell_type": "code",
      "execution_count": 22,
      "metadata": {
        "colab": {
          "base_uri": "https://localhost:8080/"
        },
        "id": "GiKjFeVaUai0",
        "outputId": "7c47b531-2768-4441-82c4-76d0ff4b844d"
      },
      "outputs": [
        {
          "name": "stderr",
          "output_type": "stream",
          "text": [
            "Some layers from the model checkpoint at distilbert-base-uncased were not used when initializing TFDistilBertForSequenceClassification: ['vocab_projector', 'vocab_layer_norm', 'activation_13', 'vocab_transform']\n",
            "- This IS expected if you are initializing TFDistilBertForSequenceClassification from the checkpoint of a model trained on another task or with another architecture (e.g. initializing a BertForSequenceClassification model from a BertForPreTraining model).\n",
            "- This IS NOT expected if you are initializing TFDistilBertForSequenceClassification from the checkpoint of a model that you expect to be exactly identical (initializing a BertForSequenceClassification model from a BertForSequenceClassification model).\n",
            "Some layers of TFDistilBertForSequenceClassification were not initialized from the model checkpoint at distilbert-base-uncased and are newly initialized: ['pre_classifier', 'dropout_19', 'classifier']\n",
            "You should probably TRAIN this model on a down-stream task to be able to use it for predictions and inference.\n"
          ]
        }
      ],
      "source": [
        "tokenizer = AutoTokenizer.from_pretrained('distilbert-base-uncased')\n",
        "model = TFAutoModelForSequenceClassification.from_pretrained('distilbert-base-uncased',num_labels = 7)"
      ]
    },
    {
      "cell_type": "markdown",
      "metadata": {
        "id": "kP-ilo0EUai0"
      },
      "source": [
        "Splitting dataset into training, validation and testing set\n",
        "\n",
        "80% for training, 10% for validation and 10% for testing"
      ]
    },
    {
      "cell_type": "code",
      "execution_count": 23,
      "metadata": {
        "id": "RVJtC_fBUai1"
      },
      "outputs": [],
      "source": [
        "train_data, temp_data = train_test_split(data,test_size=0.2,random_state=42,stratify=data['category'])\n",
        "\n",
        "val_data, test_data = train_test_split(temp_data,test_size=0.5,random_state=42,stratify=temp_data['category'])"
      ]
    },
    {
      "cell_type": "code",
      "execution_count": 24,
      "metadata": {
        "colab": {
          "base_uri": "https://localhost:8080/"
        },
        "id": "ZFK72Q3pUai1",
        "outputId": "73618e02-aba5-48af-db82-faaa00c7c1b5"
      },
      "outputs": [
        {
          "name": "stdout",
          "output_type": "stream",
          "text": [
            "Training data:  24136\n",
            "Validation data:  3017\n",
            "Testing data:  3017\n"
          ]
        }
      ],
      "source": [
        "print(\"Training data: \",len(train_data))\n",
        "print(\"Validation data: \",len(val_data))\n",
        "print(\"Testing data: \",len(test_data))"
      ]
    },
    {
      "cell_type": "markdown",
      "metadata": {
        "id": "svdlqUmeVXmg"
      },
      "source": [
        "# Formatting data for the model to use"
      ]
    },
    {
      "cell_type": "code",
      "execution_count": 25,
      "metadata": {},
      "outputs": [],
      "source": [
        "y_train = train_data['category'].values\n",
        "y_val = val_data['category'].values\n",
        "y_test = test_data['category'].values"
      ]
    },
    {
      "cell_type": "code",
      "execution_count": 26,
      "metadata": {},
      "outputs": [
        {
          "name": "stdout",
          "output_type": "stream",
          "text": [
            "Maximum length for padding after tokenization: 353\n"
          ]
        }
      ],
      "source": [
        "# Tokenize the text data\n",
        "tokenized_train = tokenizer(list(train_data['text']), truncation=True, padding=False)\n",
        "tokenized_val = tokenizer(list(val_data['text']), truncation=True, padding=False)\n",
        "tokenized_test = tokenizer(list(test_data['text']), truncation=True, padding=False)\n",
        "\n",
        "# Find the maximum length of the tokenized sequences\n",
        "max_length_train = max([len(seq) for seq in tokenized_train['input_ids']])\n",
        "max_length_val = max([len(seq) for seq in tokenized_val['input_ids']])\n",
        "max_length_test = max([len(seq) for seq in tokenized_test['input_ids']])\n",
        "\n",
        "# Determine the overall maximum length\n",
        "max_length = max(max_length_train, max_length_val, max_length_test)\n",
        "print(\"Maximum length for padding after tokenization:\", max_length)"
      ]
    },
    {
      "cell_type": "code",
      "execution_count": 27,
      "metadata": {
        "id": "xNNBjNRiUai1"
      },
      "outputs": [],
      "source": [
        "train_data = tokenizer(list(train_data['text']),truncation=True,padding='max_length',max_length = max_length, return_tensors='tf')\n",
        "test_data = tokenizer(list(test_data['text']),truncation=True,padding='max_length',max_length = max_length, return_tensors='tf')\n",
        "val_data = tokenizer(list(val_data['text']),truncation=True,padding='max_length',max_length = max_length,return_tensors='tf')"
      ]
    },
    {
      "cell_type": "code",
      "execution_count": 28,
      "metadata": {
        "id": "09jy2tU3Uai1"
      },
      "outputs": [],
      "source": [
        "train_dataset = tf.data.Dataset.from_tensor_slices((\n",
        "    dict(train_data),\n",
        "    y_train\n",
        ")).batch(2)\n",
        "\n",
        "val_dataset = tf.data.Dataset.from_tensor_slices((\n",
        "    dict(val_data),\n",
        "    y_val\n",
        ")).batch(2)\n",
        "\n",
        "test_dataset = tf.data.Dataset.from_tensor_slices((\n",
        "    dict(test_data),\n",
        "    y_test\n",
        ")).batch(2)"
      ]
    },
    {
      "cell_type": "code",
      "execution_count": 29,
      "metadata": {},
      "outputs": [
        {
          "data": {
            "text/plain": [
              "<BatchDataset element_spec=({'input_ids': TensorSpec(shape=(None, 353), dtype=tf.int32, name=None), 'attention_mask': TensorSpec(shape=(None, 353), dtype=tf.int32, name=None)}, TensorSpec(shape=(None,), dtype=tf.int32, name=None))>"
            ]
          },
          "execution_count": 29,
          "metadata": {},
          "output_type": "execute_result"
        }
      ],
      "source": [
        "train_dataset"
      ]
    },
    {
      "cell_type": "markdown",
      "metadata": {},
      "source": [
        "# Model's parameter"
      ]
    },
    {
      "cell_type": "code",
      "execution_count": 30,
      "metadata": {
        "colab": {
          "base_uri": "https://localhost:8080/"
        },
        "id": "8Z_mRbbXUai2",
        "outputId": "15beb4e8-9eb5-45c0-ca0d-89691fd18145"
      },
      "outputs": [
        {
          "name": "stdout",
          "output_type": "stream",
          "text": [
            "Model: \"tf_distil_bert_for_sequence_classification\"\n",
            "_________________________________________________________________\n",
            " Layer (type)                Output Shape              Param #   \n",
            "=================================================================\n",
            " distilbert (TFDistilBertMai  multiple                 66362880  \n",
            " nLayer)                                                         \n",
            "                                                                 \n",
            " pre_classifier (Dense)      multiple                  590592    \n",
            "                                                                 \n",
            " classifier (Dense)          multiple                  5383      \n",
            "                                                                 \n",
            " dropout_19 (Dropout)        multiple                  0         \n",
            "                                                                 \n",
            "=================================================================\n",
            "Total params: 66,958,855\n",
            "Trainable params: 66,958,855\n",
            "Non-trainable params: 0\n",
            "_________________________________________________________________\n"
          ]
        }
      ],
      "source": [
        "model.summary()"
      ]
    },
    {
      "cell_type": "code",
      "execution_count": 31,
      "metadata": {
        "colab": {
          "base_uri": "https://localhost:8080/",
          "height": 186
        },
        "id": "AXLf-GN_Uai2",
        "outputId": "def95a58-01f0-4cf8-f443-f002c87c1435"
      },
      "outputs": [
        {
          "data": {
            "text/plain": [
              "transformers.models.distilbert.modeling_tf_distilbert.TFDistilBertForSequenceClassification"
            ]
          },
          "execution_count": 31,
          "metadata": {},
          "output_type": "execute_result"
        }
      ],
      "source": [
        "type(model)"
      ]
    },
    {
      "cell_type": "markdown",
      "metadata": {},
      "source": [
        "# Training the model"
      ]
    },
    {
      "cell_type": "code",
      "execution_count": 32,
      "metadata": {
        "id": "kc049SHfUai2"
      },
      "outputs": [
        {
          "name": "stderr",
          "output_type": "stream",
          "text": [
            "No loss specified in compile() - the model's internal loss computation will be used as the loss. Don't panic - this is a common way to train TensorFlow models in Transformers! To disable this behaviour please pass a loss argument, or explicitly pass `loss=None` if you do not want your model to compute a loss.\n"
          ]
        }
      ],
      "source": [
        "model.compile(optimizer=tf.keras.optimizers.Adam(5e-6),metrics=['accuracy'])"
      ]
    },
    {
      "cell_type": "code",
      "execution_count": 33,
      "metadata": {},
      "outputs": [],
      "source": [
        "early_stopping = tf.keras.callbacks.EarlyStopping(verbose=1,patience=2,monitor='val_loss')"
      ]
    },
    {
      "cell_type": "code",
      "execution_count": 34,
      "metadata": {},
      "outputs": [
        {
          "name": "stdout",
          "output_type": "stream",
          "text": [
            "INFO:tensorflow:Mixed precision compatibility check (mixed_float16): OK\n",
            "Your GPU will likely run quickly with dtype policy mixed_float16 as it has compute capability of at least 7.0. Your GPU: NVIDIA GeForce RTX 3050 Ti Laptop GPU, compute capability 8.6\n"
          ]
        }
      ],
      "source": [
        "policy = mixed_precision.Policy('mixed_float16')\n",
        "mixed_precision.set_global_policy(policy)"
      ]
    },
    {
      "cell_type": "code",
      "execution_count": 35,
      "metadata": {
        "colab": {
          "base_uri": "https://localhost:8080/",
          "height": 321
        },
        "id": "ABLDIrGiUai2",
        "outputId": "50443ae0-262b-4ba5-dce3-1de12669e0c9"
      },
      "outputs": [
        {
          "name": "stdout",
          "output_type": "stream",
          "text": [
            "Epoch 1/5\n",
            "12068/12068 [==============================] - 1954s 161ms/step - loss: 0.6271 - accuracy: 0.8083 - val_loss: 0.4280 - val_accuracy: 0.8621\n",
            "Epoch 2/5\n",
            "12068/12068 [==============================] - 1957s 162ms/step - loss: 0.3487 - accuracy: 0.8940 - val_loss: 0.4203 - val_accuracy: 0.8694\n",
            "Epoch 3/5\n",
            "12068/12068 [==============================] - 1947s 161ms/step - loss: 0.2254 - accuracy: 0.9344 - val_loss: 0.4240 - val_accuracy: 0.8764\n",
            "Epoch 4/5\n",
            "12068/12068 [==============================] - 1939s 161ms/step - loss: 0.1411 - accuracy: 0.9608 - val_loss: 0.5087 - val_accuracy: 0.8618\n",
            "Epoch 4: early stopping\n"
          ]
        }
      ],
      "source": [
        "history = model.fit(train_dataset, validation_data=val_dataset,epochs=5,callbacks=[early_stopping])"
      ]
    },
    {
      "cell_type": "markdown",
      "metadata": {},
      "source": [
        "# Evaluating the model"
      ]
    },
    {
      "cell_type": "code",
      "execution_count": 36,
      "metadata": {},
      "outputs": [
        {
          "name": "stdout",
          "output_type": "stream",
          "text": [
            "1509/1509 [==============================] - 76s 51ms/step - loss: 0.5599 - accuracy: 0.8542\n"
          ]
        }
      ],
      "source": [
        "loss,accuracy = model.evaluate(test_dataset)"
      ]
    },
    {
      "cell_type": "code",
      "execution_count": 37,
      "metadata": {},
      "outputs": [
        {
          "name": "stdout",
          "output_type": "stream",
          "text": [
            "Accuracy:  0.8541597723960876\n",
            "Loss:  0.5598673224449158\n"
          ]
        }
      ],
      "source": [
        "print('Accuracy: ',accuracy)\n",
        "print('Loss: ',loss)"
      ]
    },
    {
      "cell_type": "markdown",
      "metadata": {},
      "source": [
        "# Saving model, label encoder, and tokenizer"
      ]
    },
    {
      "cell_type": "code",
      "execution_count": 38,
      "metadata": {},
      "outputs": [],
      "source": [
        "model.save_pretrained('distilbert_news_model')"
      ]
    },
    {
      "cell_type": "code",
      "execution_count": 39,
      "metadata": {},
      "outputs": [
        {
          "data": {
            "text/plain": [
              "('distilbert_news_tokenizer\\\\tokenizer_config.json',\n",
              " 'distilbert_news_tokenizer\\\\special_tokens_map.json',\n",
              " 'distilbert_news_tokenizer\\\\vocab.txt',\n",
              " 'distilbert_news_tokenizer\\\\added_tokens.json',\n",
              " 'distilbert_news_tokenizer\\\\tokenizer.json')"
            ]
          },
          "execution_count": 39,
          "metadata": {},
          "output_type": "execute_result"
        }
      ],
      "source": [
        "tokenizer.save_pretrained('distilbert_news_tokenizer')"
      ]
    },
    {
      "cell_type": "code",
      "execution_count": 40,
      "metadata": {},
      "outputs": [],
      "source": [
        "with open('label_encoder.pkl', 'wb') as file:\n",
        "    pickle.dump(encoder, file)"
      ]
    },
    {
      "cell_type": "markdown",
      "metadata": {},
      "source": [
        "# Predicting sample text"
      ]
    },
    {
      "cell_type": "code",
      "execution_count": 43,
      "metadata": {},
      "outputs": [],
      "source": [
        "def predict_text(sample_text):\n",
        "    tokenized_sample = tokenizer(sample_text, truncation=True, padding='max_length', max_length=353, return_tensors='tf')\n",
        "\n",
        "    predictions = model(tokenized_sample)\n",
        "\n",
        "    predicted_label = tf.argmax(predictions.logits, axis=1).numpy()\n",
        "\n",
        "    decoded_label = encoder.inverse_transform(predicted_label)\n",
        "\n",
        "    return  decoded_label[0]"
      ]
    },
    {
      "cell_type": "code",
      "execution_count": 44,
      "metadata": {},
      "outputs": [
        {
          "name": "stdout",
          "output_type": "stream",
          "text": [
            "Predicted category: SPORTS\n"
          ]
        }
      ],
      "source": [
        "# Sample text for prediction\n",
        "sample_text = [\"\"\"\n",
        "As we have become accustomed to, when Arsenal are in need, up steps No. 7 and Bukayo Saka tore apart Southamption at the Emirates, much to the delight of Mikel Arteta.\n",
        "\n",
        "The winger registered two assists before getting in on the goal-scoring himself with a well-taken effort in stoppage time to put an exclamation mark on yet another outstanding performance.\n",
        "\n",
        "Saka's first pass to Kai Havertz was beautifully weighted and the German took a touch before lashing home to bring the Gunners level. His second was a delicious lob to the back post to find an onrushing Gabriel Martinelli and the Brazilian tapped home from close range.\n",
        "\n",
        "Such was Bukayo's performance, Arteta detailed that is the kind of maturity the winger is playing with now.\n",
        "               \"\"\"]\n",
        "\n",
        "print(\"Predicted category:\", predict_text(sample_text))"
      ]
    },
    {
      "cell_type": "code",
      "execution_count": 45,
      "metadata": {},
      "outputs": [
        {
          "name": "stdout",
          "output_type": "stream",
          "text": [
            "Predicted category: WELLNESS\n"
          ]
        }
      ],
      "source": [
        "sample_text = [\"\"\"\n",
        "Physical activity impacts mental health. Exercise has consistently been shown to effectively reduce symptoms of depression and maintain well-being both as a primary treatment and in conjunction with medication or therapy. There is also evidence that exercise benefits individuals with posttraumatic stress disorder (PTSD), anxiety, and attention-deficit/hyperactivity disorder (ADHD).\n",
        "\n",
        "Physical activity may also help prevent cognitive decline in older adults. More broadly, regular exercise positively impacts cognitive function and increases neuroplasticity (the brain’s ability to change) which can enhance learning and adaptation. Physical activity can take many forms—walking, running, fitness classes, organized sports, etc. Much of the research has focused on the benefits of aerobic exercise and resistance training, such as weight training.\n",
        "\n",
        "Exercise “snacks,” or brief episodes of exercise interspersed throughout the day, can be an easy way to incorporate daily movement into daily routines. This could involve a few minutes of climbing stairs or jumping jacks or pushups. Some people report using these brief exercise breaks every hour or so during sedentary tasks also helps with attention and concentration, which can give the added benefit of improved productivity.\n",
        "\"\"\"]\n",
        "\n",
        "print(\"Predicted category:\", predict_text(sample_text))"
      ]
    },
    {
      "cell_type": "code",
      "execution_count": 46,
      "metadata": {},
      "outputs": [
        {
          "name": "stdout",
          "output_type": "stream",
          "text": [
            "Predicted category: POLITICS\n"
          ]
        }
      ],
      "source": [
        "sample_text = [\"\"\"\n",
        "After rushing to comfort Israel as it grieved the worst attack on Jews since the Holocaust, President Joe Biden last year pledged America would stand with the country in its dark days and the good ones he insisted would come.\n",
        "\n",
        "At the time, no one knew the international and domestic political consequences of his promise. An ensuing war has proved the existential role the US plays in Israel’s survival but also severely strained the alliance. It has also exposed and widened some of America’s most profound political divides ahead of an already tumultuous election between Vice President Kamala Harris and former President Donald Trump next month.\n",
        "\n",
        "The October 7, 2023, Hamas terror attacks, which killed 1,200 people, did not just transform the Middle East’s strategic balance as Israel confronted Hamas, then Hezbollah, and traded fire with their sponsor, its archenemy, Iran. Like the September 11 attacks in 2001, the Hamas horror set off a chain of events that affected countless lives, unleashing political disturbances thousands of miles away.\n",
        "\"\"\"]\n",
        "\n",
        "print(\"Predicted category:\", predict_text(sample_text))"
      ]
    }
  ],
  "metadata": {
    "colab": {
      "provenance": []
    },
    "kernelspec": {
      "display_name": "Deep_Learning_TF",
      "language": "python",
      "name": "python3"
    },
    "language_info": {
      "codemirror_mode": {
        "name": "ipython",
        "version": 3
      },
      "file_extension": ".py",
      "mimetype": "text/x-python",
      "name": "python",
      "nbconvert_exporter": "python",
      "pygments_lexer": "ipython3",
      "version": "3.10.0"
    }
  },
  "nbformat": 4,
  "nbformat_minor": 0
}
