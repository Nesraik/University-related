{
 "cells": [
  {
   "cell_type": "code",
   "execution_count": 1,
   "metadata": {},
   "outputs": [],
   "source": [
    "#Load atau Save file\n",
    "import pickle\n",
    "#Read Dataset\n",
    "import pandas as pd\n",
    "#Word Tokennize\n",
    "from nltk.tokenize import word_tokenize\n",
    "#Buat dapat list stopwords, sama nyari antonym,synonym\n",
    "from nltk.corpus import stopwords,wordnet\n",
    "#Stemming sama Lemmatization\n",
    "from nltk.stem import SnowballStemmer,WordNetLemmatizer\n",
    "#Model  - training, predict, atau hasil\n",
    "from nltk.classify import NaiveBayesClassifier, accuracy\n",
    "#Buat ngitung kata muncul brp kalii dalam satu kalimat\n",
    "from nltk.probability import FreqDist\n",
    "#Buat tagging\n",
    "from nltk.tag import pos_tag\n",
    "#Buat ambil list symbol\n",
    "import string"
   ]
  },
  {
   "cell_type": "markdown",
   "metadata": {},
   "source": [
    "Loading Dataset"
   ]
  },
  {
   "cell_type": "code",
   "execution_count": 2,
   "metadata": {},
   "outputs": [
    {
     "data": {
      "text/html": [
       "<div>\n",
       "<style scoped>\n",
       "    .dataframe tbody tr th:only-of-type {\n",
       "        vertical-align: middle;\n",
       "    }\n",
       "\n",
       "    .dataframe tbody tr th {\n",
       "        vertical-align: top;\n",
       "    }\n",
       "\n",
       "    .dataframe thead th {\n",
       "        text-align: right;\n",
       "    }\n",
       "</style>\n",
       "<table border=\"1\" class=\"dataframe\">\n",
       "  <thead>\n",
       "    <tr style=\"text-align: right;\">\n",
       "      <th></th>\n",
       "      <th>review</th>\n",
       "      <th>sentiment</th>\n",
       "    </tr>\n",
       "  </thead>\n",
       "  <tbody>\n",
       "    <tr>\n",
       "      <th>24090</th>\n",
       "      <td>\"Half Empty\" is a hilarious musical about the ...</td>\n",
       "      <td>positive</td>\n",
       "    </tr>\n",
       "    <tr>\n",
       "      <th>3176</th>\n",
       "      <td>I've seen this movie n I can say that this is ...</td>\n",
       "      <td>negative</td>\n",
       "    </tr>\n",
       "    <tr>\n",
       "      <th>21785</th>\n",
       "      <td>Synopsis: the sequel to the acclaimed Silence ...</td>\n",
       "      <td>negative</td>\n",
       "    </tr>\n",
       "    <tr>\n",
       "      <th>8145</th>\n",
       "      <td>An unmarried, twenty-something hick (played by...</td>\n",
       "      <td>positive</td>\n",
       "    </tr>\n",
       "    <tr>\n",
       "      <th>15587</th>\n",
       "      <td>As a popular sport, surfing was liked by many ...</td>\n",
       "      <td>positive</td>\n",
       "    </tr>\n",
       "  </tbody>\n",
       "</table>\n",
       "</div>"
      ],
      "text/plain": [
       "                                                  review sentiment\n",
       "24090  \"Half Empty\" is a hilarious musical about the ...  positive\n",
       "3176   I've seen this movie n I can say that this is ...  negative\n",
       "21785  Synopsis: the sequel to the acclaimed Silence ...  negative\n",
       "8145   An unmarried, twenty-something hick (played by...  positive\n",
       "15587  As a popular sport, surfing was liked by many ...  positive"
      ]
     },
     "execution_count": 2,
     "metadata": {},
     "output_type": "execute_result"
    }
   ],
   "source": [
    "Dataset = pd.read_csv(\"IMDB Dataset.csv\").sample(n=100)\n",
    "Dataset.head()"
   ]
  },
  {
   "cell_type": "markdown",
   "metadata": {},
   "source": [
    "Splitting Dataset into feature and label"
   ]
  },
  {
   "cell_type": "code",
   "execution_count": 8,
   "metadata": {},
   "outputs": [],
   "source": [
    "review = Dataset['review'].to_list()\n",
    "sentiment = Dataset['sentiment'].to_list()"
   ]
  },
  {
   "cell_type": "code",
   "execution_count": 5,
   "metadata": {},
   "outputs": [],
   "source": [
    "#Buat list\n",
    "eng_stopwords = stopwords.words('english')\n",
    "symbol_list = string.punctuation\n",
    "\n",
    "#Buat alat\n",
    "stemmer = SnowballStemmer('english')\n",
    "lemmatizer = WordNetLemmatizer()\n"
   ]
  },
  {
   "cell_type": "markdown",
   "metadata": {},
   "source": [
    "Function buat preprocessing"
   ]
  },
  {
   "cell_type": "code",
   "execution_count": 13,
   "metadata": {},
   "outputs": [],
   "source": [
    "def removeStopwords(word_list):\n",
    "    return [word.lower() for word in word_list if word.lower() not in eng_stopwords]\n",
    "\n",
    "def removeSymbol(word_list):\n",
    "    return [word for word in word_list if word not in symbol_list]\n",
    "\n",
    "def removeNumber(word_list):\n",
    "    return [word for word in word_list if not word.isnumeric()]\n",
    "\n",
    "def stemmingword(word_list):\n",
    "    return [stemmer.stem(word) for word in word_list]\n",
    "\n",
    "#Noun - NN, adjective - jj, adverb - RB, verb - VB\n",
    "\n",
    "def get_tag(label):\n",
    "    if label == 'jj':\n",
    "        return 'a'\n",
    "    elif label in ['NN','RB','VB']:\n",
    "        return label[0]\n",
    "    else:\n",
    "        return None\n",
    "    \n",
    "def lemmatizing_word(word_list):\n",
    "    lemmatized_list = []\n",
    "    tagging = pos_tag(word_list)\n",
    "    for word, tag in tagging:\n",
    "        label = get_tag(tag)\n",
    "\n",
    "        if label!=None:\n",
    "            lemmatized_list.append(lemmatizer.lemmatize(word,tag))\n",
    "        else:\n",
    "            lemmatized_list.append(lemmatizer.lemmatize(word))\n",
    "    return lemmatized_list"
   ]
  },
  {
   "cell_type": "code",
   "execution_count": 14,
   "metadata": {},
   "outputs": [],
   "source": [
    "word_list = []\n",
    "for sentence in review:\n",
    "    words = word_tokenize(sentence)\n",
    "    for word in words:\n",
    "        word_list.append(word.lower())"
   ]
  }
 ],
 "metadata": {
  "kernelspec": {
   "display_name": "Natural_Language_Processing",
   "language": "python",
   "name": "python3"
  },
  "language_info": {
   "codemirror_mode": {
    "name": "ipython",
    "version": 3
   },
   "file_extension": ".py",
   "mimetype": "text/x-python",
   "name": "python",
   "nbconvert_exporter": "python",
   "pygments_lexer": "ipython3",
   "version": "3.12.2"
  }
 },
 "nbformat": 4,
 "nbformat_minor": 2
}
