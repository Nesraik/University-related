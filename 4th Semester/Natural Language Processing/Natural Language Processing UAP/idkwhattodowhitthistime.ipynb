{
 "cells": [
  {
   "cell_type": "code",
   "execution_count": 3,
   "metadata": {},
   "outputs": [],
   "source": [
    "import pandas as pd\n",
    "import pickle\n",
    "from nltk.tokenize import word_tokenize\n",
    "from nltk.tag import pos_tag\n",
    "from nltk.stem import SnowballStemmer, WordNetLemmatizer\n",
    "from nltk.classify import NaiveBayesClassifier, accuracy\n",
    "from nltk.probability import FreqDist\n",
    "from nltk.corpus import stopwords\n",
    "from sklearn.feature_extraction.text import TfidfVectorizer\n",
    "from sklearn.metrics.pairwise import cosine_similarity\n",
    "from random import shuffle\n",
    "from string import punctuation\n",
    "import spacy\n"
   ]
  },
  {
   "cell_type": "code",
   "execution_count": 5,
   "metadata": {},
   "outputs": [],
   "source": [
    "en_stop_words = stopwords.words('english')\n",
    "nlp = spacy.load('en_core_web_sm')\n",
    "stemmer = SnowballStemmer('english')\n",
    "lemmatizer = WordNetLemmatizer()\n",
    "symbol = punctuation"
   ]
  },
  {
   "cell_type": "code",
   "execution_count": 6,
   "metadata": {},
   "outputs": [],
   "source": [
    "def loadingDataset():\n",
    "    data = pd.read_csv('Movie Dataset.csv').sample(n=1000)\n",
    "    data.dropna(inplace=True)\n",
    "    return data"
   ]
  },
  {
   "cell_type": "code",
   "execution_count": 7,
   "metadata": {},
   "outputs": [],
   "source": [
    "def get_label(tag):\n",
    "    if tag == 'jj':\n",
    "        return 'a'\n",
    "    elif tag in ['nn','rb','vb']:\n",
    "        return tag[0]\n",
    "    else:\n",
    "        return None"
   ]
  },
  {
   "cell_type": "code",
   "execution_count": 8,
   "metadata": {},
   "outputs": [],
   "source": [
    "def lemmatizing(word_list):\n",
    "    tagging = pos_tag(word_list)\n",
    "    lemmatized_list = []\n",
    "\n",
    "    for word, tag in tagging:\n",
    "        label = get_label(tag)\n",
    "        if label!= None:\n",
    "            lemmatized_list.append(lemmatizer.lemmatize(word,label))\n",
    "        else:\n",
    "            lemmatized_list.append(lemmatizer.lemmatize(word))\n",
    "    return lemmatized_list"
   ]
  },
  {
   "cell_type": "code",
   "execution_count": 9,
   "metadata": {},
   "outputs": [],
   "source": [
    "def preprocessingText(data):\n",
    "    reviews = data['review'].to_list()\n",
    "    sentiments = data['sentimentScore'].to_list()\n",
    "\n",
    "    word_list = []\n",
    "    for sentence in reviews:\n",
    "        words = word_tokenize(sentence)\n",
    "        for word in words:\n",
    "            word_list.append(word.lower())\n",
    "    \n",
    "    word_list = [word.lower() for word in word_list if word not in en_stop_words and word not in symbol and word.isalpha()]\n",
    "    word_list = lemmatizing(word_list)\n",
    "\n",
    "    feature_set = []\n",
    "\n",
    "    labeled_list = list(zip(reviews,sentiments))\n",
    "\n",
    "    for sentence, label in labeled_list:\n",
    "        words = []\n",
    "        words = word_tokenize(sentence)\n",
    "        words = [word.lower() for word in words if word not in en_stop_words and word not in symbol and word.isalpha()]\n",
    "        words = lemmatizing(words)\n",
    "\n",
    "        feature = {}\n",
    "\n",
    "        for word in words:\n",
    "            feature[word] = (word in word_list)\n",
    "        feature_set.append((feature,label))\n",
    "    \n",
    "    return feature_set\n",
    "\n",
    "    "
   ]
  },
  {
   "cell_type": "code",
   "execution_count": 10,
   "metadata": {},
   "outputs": [],
   "source": [
    "def modelling():\n",
    "    data = loadingDataset()\n",
    "    feature_set = preprocessingText(data)\n",
    "    shuffle(feature_set)\n",
    "\n",
    "    count = int(0.8*len(feature_set))\n",
    "    train_data = feature_set[:count]\n",
    "    test_data = feature_set[count:]\n",
    "\n",
    "    model = NaiveBayesClassifier.train(train_data)\n",
    "    file = open('model.pickle','wb')\n",
    "    pickle.dump(model,file)\n",
    "    file.close()\n",
    "    \n",
    "    print(model.show_most_informative_features(n=10))\n",
    "    print(accuracy(model,test_data))\n",
    "\n",
    "\n",
    "    return model"
   ]
  },
  {
   "cell_type": "code",
   "execution_count": 12,
   "metadata": {},
   "outputs": [],
   "source": [
    "def get_model():\n",
    "    try:\n",
    "        file = open('model.pickle','rb')\n",
    "        model = pickle.load(file)\n",
    "        file.close()\n",
    "    except:\n",
    "        model = modelling()\n",
    "    return model"
   ]
  },
  {
   "cell_type": "code",
   "execution_count": 14,
   "metadata": {},
   "outputs": [],
   "source": [
    "def writeReview(model):\n",
    "    while True:\n",
    "        review = input('WRITE YOUR REVIEW: ')\n",
    "        reviews = word_tokenize(review)\n",
    "        if len(reviews) > 20:\n",
    "            break\n",
    "    category = model.classify(FreqDist(reviews))\n",
    "    return review,category\n"
   ]
  },
  {
   "cell_type": "code",
   "execution_count": 18,
   "metadata": {},
   "outputs": [],
   "source": [
    "def movieRecommendation(data,user_review):\n",
    "    data_reviews = list(data['review'])\n",
    "    \n",
    "    vectorizer = TfidfVectorizer()\n",
    "    data_vec = vectorizer.fit_transform(data_reviews)\n",
    "    user_vec = vectorizer.transform([user_review])\n",
    "\n",
    "    similarity = cosine_similarity(data_vec,user_vec).flatten()\n",
    "    top_indices = similarity.argsort()[-2:][::-1]\n",
    "\n",
    "    counter = 1\n",
    "\n",
    "    for index in top_indices:\n",
    "        print(f\"{counter}: {data.iloc[index]['title']}\")\n",
    "        counter+=1\n"
   ]
  },
  {
   "cell_type": "code",
   "execution_count": 19,
   "metadata": {},
   "outputs": [],
   "source": [
    "def NER(data):\n",
    "    reviews = list(data['review'])\n",
    "\n",
    "    doc = nlp(str(reviews))\n",
    "\n",
    "    category = {}\n",
    "\n",
    "    for ent in doc.ents:\n",
    "        if ent.label_ not in category:\n",
    "            category[ent.label_] = []\n",
    "        category[ent.label_].append(ent.text)\n",
    "\n",
    "    for label,text in category.items():\n",
    "        print(f\"{label}: {', '.join(text)}\")"
   ]
  },
  {
   "cell_type": "code",
   "execution_count": 20,
   "metadata": {},
   "outputs": [
    {
     "name": "stdout",
     "output_type": "stream",
     "text": [
      "MOVIE RECOMMENDATION MENU\n",
      "YOUR REVIEW: NO REVIEW\n",
      "CATEGORY: UNKNOWN\n",
      "1. WRITE REVIEW\n",
      "2. MOVIE RECOMMENDATION\n",
      "3. NER\n",
      "WORK_OF_ART: 'More, Green Hornet, The House With a Clock, The Devil Made Me Do, 'Getting, The Chronicles of Narnia: the Lion, Despite Nolfi's, Snow White and the Huntsman, Thor: The Dark World, Beauty and the Beast, 'Lost World, Fascinatingly, Catch Me If You Can resembles, For Your Consideration, Hangover, LL Cool J, Due Date, 'The Chadwick Boseman&#47;T&#8217;Challa, 'The Conjuring 2, Kicking and Screaming, Pleasant Surprises Abound, Hidden Figures, Bad News Bears, 'Thor: Ragnarok, This Is Where I Leave You drops us, If Night of the Living Dead, The Descent, The Shining, 'As Fantine&#44, Although Valdemort, The Green Knight, Tarantino, 'Black Adam, The Light Between Oceans, Mary and the Witch's Flower, 'Shame', 'In The Mood For Love, 'Plays, Squish\" and \"Aargh, Depp's Wonka, 'The Darkest Hour, Hidden Figures, Witherspoon, The Founder, Exodus: Gods and Kings, Snow White and the Huntsman, Tarantino, Dark Phoenix, The Greatest Showman, Cruella, Logan Lucky, 'The Book of Eli, War for the Planet of the Apes seals Caesar's, Bridge of Spies, The Three Stooges, Man on Fire, Beauty Shop, Where The Exorcist, quot;The Way of Water&#8221, 'Glory Road, 'The Addams Family, Cold Pursuit', Both 'Balls' and 'Rush Hour 3', Certain Women, The Blind Side, This Is Where I Leave You, Star Trek, The Bad News Bears, 'The Spierig Brothers, man\\, 'Jojo Rabbit, Bicentennial Man's, The Boy Next Door, While King Richard, 'Nothing, Child’s Play and killer android, The Terminator, Sex Tape, Die Hard, 'The Conjuring, 'Portrait of a Killer, \"The Favourite, This Is, West Side Story, 'You, Me and Dupree, Nanny McPhee Returns, Force Majeure, Furious 6\\'\\', Star Trek Into Darkness,\\'\\', 'The Founder', Law and Order, Black Swan, Warrior, The Big Year, Luca Guadagnino\\'s, Batman, The Master, Pretty Dirty Things\n",
      "ORDINAL: first, first, second, first, first, first, first, first, first, second, third, first, third, second, first, first, first, first, First, first, third, first, first, first, first, third, First, first, first, third, first, second, first, third\n",
      "CARDINAL: two, one, one, two, one, two, two, one, one, three, 1, three, so than one, 50-50, one, One, two, two, one, three, two, 101, One, two, three, T2, one, One, one, X2, three, one, one, three, one, three, One, one, three, one, dozens, one, two, one, two, two, only one, one, 2, 4, 3, three, two, half, two, millions, half, one, two, fizzles, one, One, half, half, thirty, One, one, half, one, two, one, one, one, one, two, 150-plus\n",
      "GPE: Lucas, Seberg, Scuba, Hollywood, Cruella, Holllywood, Olivia, Garland, Danny, Hollywood, Kattan, Conan, Amsterdam, Twilight, Bay/Bruckheimer, Jurassic Park, Pandora, year&#151;it, Clash, Snowden, Vengeance, Elle, Boom, Megamind\\, Marvel, Molly, Hollywood, Amsterdam, Damon, Hollywood, London, Thor, overlong, Hitchcock, Hollywood, Sicario, Batman, Detroit, Marvel, Memento, Batman, Rwanda, America, Massachusetts, Georgia, Hollywood, Latino, Megamind\\, China, The Kingdom, New York, Hollywood, Soderbergh, America, Washington, Kroc, DC, Los Angeles&#44, Marvel, Aussie, Paddy, Suspiria, Ronan, Hollywood, Garland\n",
      "ORG: Clint Eastwood's, Triangle of Sadness, RV is Vacation, Raimi, Boseman, Debbie, Hobbs & Shaw, the Fast & Furious, Black\\, Bond, hit&#44, fan&#46, C.S. Lewis', McAvoy, Justice, Coppola, The Warriors, Florence Pugh, the statement&#44; &, Doc Martens, Hume Cronyn, Cocoon, CG, Disney, Last Blood, La-La Land, Annapolis, Hardwicke, Nolan, Dunkirk, Florence, Algerian Army, Driver, Payne, Stella Gibbons, Recruit, Trilogy, Farmiga, ENOUGH, Ferrell, Cedar, it\\, Rogen, Gothic, Auto Focus, Stallone, Bird, Academy Awards, Navajos, Navajos, Hathaway, Smith, Deepwater Horizon, Santa Claus, sci-fi, Red Riding Hood's, CGI, An American Werewolf, Tiffany Haddish, Swiss Army Man, Poppins, Villeneuve, Captain Marvel&#44, Osment, solidarity, CGI, Something Webb, this Old School, Vantage Point, between Kingdom of Heaven, Gladiator, Frosted Flakes, Coogler, Cowboys & Aliens, ETS, Parkland, Jurassic World, The Winter Soldier, Superhero, Dark Fate, Asylum, Sharpie, Wonka, Gravity, Interstellar, CGI, late&#8230, Audi, Involves, The Suicide Squad, Disney, it\\, Maverick&#44, Justice League, Elmore Leonard, Ramis, The Last Knight, Reynolds, Spider-Man: Far From Home - this, rarified league, Daphne, Reeves, The Shipping News, Old School, America\\, Knox, Stillwater, sci-fi, Barbershop, Barbershop, Barbershop, Next Cut, Menu, Puss, Banderas, Hayek, Aldrich, Branagh, LOT, Heist, Spanish&#93, the Destructive Genius, Midway, Knight of Cups, Brothers Grimm, Theron, Grudge, gags, \\'insulting.\\'', First Contact, Reiser Mangold No&#263, dan &#, niske, Scott, Christie's, the Four Seasons', Blanchett&#46, Honey, The Green Knight, Hollywood Medieval Grunge, Disney, Como, Gangster Squad, Baheera, King Louie, Idiocracy, McKellen, Victorian London, Reynolds, Posey, The Real World, Sofia Coppola's, Quale, Downey, Jackson-Cohen's, Hail, Caesar, Chalamet, Swank, Gyllenhaal, The Last Duel, Justice League, grey morality, Bombshell, Justice League, Coogler, Toho, hard-\"R, DreamWorks, it\\, Witherspoon, art&#46, Raimi, Crank, Hugh Jackman, The Sixth Sense, Caesar, The Incredible Hulk, Menu\n",
      "PERSON: Stewart, Greengrass, Flubber, McConaughey, Generic, Horrible Bosses, Rian Johnson, Jason Bourne, Tony Pierce-Roberts's, Martin Hunter's, Jasmine, Emma Stone, Emily Blunt, Lost, Redford, J.C Chandor, Ray, Zwick, Instinct 2, Haley Bennett's, Showman, John Carpenter, Charlie Hunnam, Fawcett, Robert Ben Garant, Thomas Lennon's, Wardrobe, Vampires Suck, Batman, Slumdog Millionaire, Danny Boyle, Meryl Streep, Philip Larkin's, Armstrong, Blunt, Damon, Walter Hill's, Matthew Libatique, Worry Darling, Kieslowski, Flashy, Dean DeBlois, Johnny, James Gray's, Stewart, Bahari, Don Ameche, Lacklustre, Krampus, Julianne Moore, Carrie, Jamie Lee Curtis, John Woo, Guest, VOD, Jesus, Quentin Tarantino, Reichardt, Denis Villeneuve, Streep, Kevin Costner, Kevin, Joanna, Walter, Sherlock Holmes, Douglas, Lipnicki, Jackson, Billy Ray, Terry George, Joseph Gordon-Levitt, Snowden, Shailene Woodley, Lindsay Mills, Stan Lee, Marvel, Doug, Bug, gore, Verhoeven, Isabella Huppert, Chazelle, doesn&#8217;t, Newt, Evan Goldberg, Theron, Robbie, Nicole Kidman, Madison, Shark Tale, Syriana, Sandler, Mickey, Prometheus, junkie opera, Frozen II, Johnny, Formula Hollywood, Dawn, Zombieland, buff, Angelo, Cage, Green, Danny McBride, Scott Teems, Adams, Oscar, Julie Andrews, Mary Poppins, Godzilla, Kong, Jordan Scott, Boseman, Flynn, Knightley, Darth Vader, James Gunn, Mummy, Billy Bob, McConaughey, Mickey Haller, Darren Aronofsky, Schmidt, Scheinert, Cheney, Sonny Chiba's, Mary - magic, Nichols, Cianfrance, Franco, Liam Neeson, Tammy, Gary Oldman, Winston Churchill, Wonder Woman, Studio Ghibli, Steve McQueen, Evan Hansen, Adam Sandler, Ralph Fiennes, Mary, Daniel Craig, Dan, Starsky, Hutch, Gooding Jr., Rain Man, Scott, Ralph Breaks, Flaw, matinee, Freddy Krueger, Jason Voorhees, Vin Diesel's, Geek, Paul, Sarah Connor, Rigor, Hilary Swank, Jane Austen's, Bruce Willis, Richard Donner, Russell, Henckel Von Donnersmarck, Phillip K. Dick, Nickelback, Tom Selleck, Catherine O'Hara, Sapochnik, Frankenstein, Directors Persichetti, Ramsey, Rothman, Chris Tucker, Brown, Taylor Hackford's, Ray, Scott, Gaga, Christopher Nolan, Cooper, Zhao, Lance Henriksen, Ewen Bremner, Hunt, Carrey, Danny Boyle's, Demme, Lambs, Robin Hood, Stanley Kubrick, Hans Zimmer, Chris Pine, Jack Ryan, Tom Clancy, Fallen Kingdom, Ed, Lorraine Warren, Witty, Stewart, Assayas, David Holmes', Steven Soderbergh, Eddie Jemison, Shaobo Qin, Carl Reiner, Rupert Sanders, Danny Boyle, Alex Garland, Lee, Félicie, Hunter Killer, Minds, De Niro, Philip Seymour Hoffman, Faster, Anderson, Pixar, Kelly Preston, Violent Night, too&#46, Stanley Kubrick's, Arrival, Villeneuve, Simone, Heigl, McKenna, Julia Roberts, Pattinson, Diaz, Gerry, Broken Bridges, Kevin Spacey, Jodie Foster's, Adolph Hitler, Josh Hutcherson, Dwayne Johnson, Jules Verne's, Miguel Arteta's, Marseilles, Will Ferrell, Lindsay Lohan, Frozen, J.J. Abrams', Mark Mylod, Bah, Cameron, Robert Duvall, Anna Kendrick, John Astin, Carolyn Jones, Gomez, Morticia, kooky, Richard Littlejohn, Chuck Norris, Dark Phoenix, Yay, It&apos;s, Angela Basset, Jolie, Thornton, Crimson Tide, Grinch, Spielberg, Tom Cruise, Tom Cruise, Blade Runner, Gattaca, Blade, Logan, Ken Loach, Wilson, Johnson, Freed, Sloane, Minkoff, Kevin] Smith, Wes Anderson, Jean-Pierre Jeunet, Johnson, Storks, Gleeson, Farrell, Davis, Zellweger, Pegg, David Lean, Gawain, James Mangold, Williams, Cloverfield, mais de ateno, Annie, Cameron, John McClane, Ruben Fleischer, Mega, Mild, David Lowery's, Baloo, Jason Statham's, Anthony, Joe Russo, P.L. Travers, Emma Thompson, Lego Batman, Shorts, Jason Friedberg, Aaron Seltzer, Vampires Suck, Dickens, Carrey, CSI, Syriana, Jack Ryan, Aniston, Biel, Lyonne, Carrey, Joseph L. Mankiewicz's, Marie Antoinette, Spielberg, Barney, Spin, Garfield, Hacksaw Ridge, Desmond Doss, Emma Thompson\\'s, Mary-Poppinsish, Richard] LaGravenese, Li, J.D. Salinger, George Lucas, Shyamalan, hasn&#8217;t, Gregory Hoblit's, Fast Five, Johnson, Spike, Michael Keaton, Zack Snyder's, Michael Bay&#46, Motherhood, Rashomon-like, raros ejemplos, literario, su protagonista, Thomas Horn, Godzilla, \\'80s sci-fi, Faster, Hawk Down&#8221, It&apos;s, McCarthy, Damon, Betty Crocker ', Dracula, Gibson, Iris, Crowe, Pattinson, Hugh Grant, Mary, Denis Villeneuve's, Amanda Bynes, Slither, Tammy Faye, Michelle Pfeiffer, Harrison Ford, Robert Zemeckis, Neill Blomkamp's, Koba, Steven Spielberg, Tim Burton, Wachowski, Paul Thomas Anderson's, Joaquin Phoenix, Avenger, Iron Man, Jim Field, Spielberg, Judy Moody, Jerry Shepard, Paul Walker\n",
      "NORP: British, Greek, Spanish, Avengers, Irish, Spanish, American, American, Spanish, American, British, Spanish, Spanish, Spanish, Veterans, British, Titans, Willis, Japanese, Machete, Spanish, Spanish, creepy, Spanish, Spanish, creepy, Spanish, Kwan, Spielbergian, creepy, Spanish, Spanish, creepy, Heigl, British, American, American, Spanish, creepy, Creepy, Constantine, Escapist, Latin American, Spanish, Spanish, Spanish, Americana, Scorsese, Spanish, Japanese, Swedish, Reese, Australian\n",
      "DATE: today, 2018, summer, the year, summer, Christmas, this year, 1950s, Halloween, the 13 years, the year, Saturday, 1981, an early-summer, 2006, summer, 2020, 1978, 2022, two films ago, year, day, 13 years, years, 30 years ago, years, the year, last year's, 1984, 1978, summer, Saturday, 100 years, 10 years ago, the year, Tomorrow, year, 28 Days Later, years, Christmas, recent years, Christmas, Christmas, 2001, five years, 1994, 2002, 2004, 2005, last year's, decades, 1960s, recent years, years, a day, the '80s, decades, 80-year-old, Fifty Shades, 2016, this year, 2013, the age of 10, 40, 5-year-old, 2000, another day, 2005, the year, 60-year-long, 50s, summer\n",
      "MONEY: 46;&#46;&#46;is, 8220;Saints&#8221, 8220;A, 8216;Wakanda, 40;during, $42 million, more than $100 million, $50 million, $140 million, 269;ini, 8220;Black\n",
      "TIME: hero's hour, 127 Hours, Christmas night, 98 minutes, night, about 10 minutes before the end, a mere ninety minutes, two-hour, two hour, afternoon, 97-minute, the minute, 108-minute, approximately 110 minutes, about 15 minutes, an hour and three quarters, the last few minutes, 142 minutes, 30 minutes, 86 elongated minutes, just 90 minutes, a few sleepless nights between now and 2003, one minute, 100 minutes, midnight, 81 minutes, one second, two hours, 32-minute\n",
      "PRODUCT: Scott, Moll, Pascal, WikiLeaks, Harbour, T2 Trainspotting, Artemis, Baby Driver\n",
      "EVENT: the 2006 Razzies and Stinkers, WWII, Independence Day, Get Shorty&#59, post-Cold War, Poirot, World War II, the WWII Battle of Okinawa, World War II\n",
      "LOC: Witch, Make Believe, Earth, Arctic, Crystal, Monsterverse\n",
      "LAW: Sonic 2, Hart's War, rico que su versin cinematogrfica\n",
      "FAC: Un, Channing Tatum, Darkest Hour, Sexy Beast, Raoul Bouva, DIDN'T, Malick, Maleficent\\, the Crossroads, The Dark Knight\n",
      "LANGUAGE: Heigl, English\n",
      "PERCENT: 98 percent\n",
      "MOVIE RECOMMENDATION MENU\n",
      "YOUR REVIEW: NO REVIEW\n",
      "CATEGORY: UNKNOWN\n",
      "1. WRITE REVIEW\n",
      "2. MOVIE RECOMMENDATION\n",
      "3. NER\n"
     ]
    },
    {
     "ename": "ValueError",
     "evalue": "invalid literal for int() with base 10: ''",
     "output_type": "error",
     "traceback": [
      "\u001b[1;31m---------------------------------------------------------------------------\u001b[0m",
      "\u001b[1;31mValueError\u001b[0m                                Traceback (most recent call last)",
      "Cell \u001b[1;32mIn[20], line 14\u001b[0m\n\u001b[0;32m     12\u001b[0m \u001b[38;5;28mprint\u001b[39m(\u001b[38;5;124m'\u001b[39m\u001b[38;5;124m2. MOVIE RECOMMENDATION\u001b[39m\u001b[38;5;124m'\u001b[39m)\n\u001b[0;32m     13\u001b[0m \u001b[38;5;28mprint\u001b[39m(\u001b[38;5;124m'\u001b[39m\u001b[38;5;124m3. NER\u001b[39m\u001b[38;5;124m'\u001b[39m)\n\u001b[1;32m---> 14\u001b[0m option \u001b[38;5;241m=\u001b[39m \u001b[38;5;28;43mint\u001b[39;49m\u001b[43m(\u001b[49m\u001b[38;5;28;43minput\u001b[39;49m\u001b[43m(\u001b[49m\u001b[38;5;124;43m'\u001b[39;49m\u001b[38;5;124;43m>> \u001b[39;49m\u001b[38;5;124;43m'\u001b[39;49m\u001b[43m)\u001b[49m\u001b[43m)\u001b[49m\n\u001b[0;32m     15\u001b[0m \u001b[38;5;28;01mif\u001b[39;00m option \u001b[38;5;241m==\u001b[39m \u001b[38;5;241m1\u001b[39m:\n\u001b[0;32m     16\u001b[0m     user_review, category \u001b[38;5;241m=\u001b[39m writeReview(model)\n",
      "\u001b[1;31mValueError\u001b[0m: invalid literal for int() with base 10: ''"
     ]
    }
   ],
   "source": [
    "user_review = 0\n",
    "category = 0\n",
    "\n",
    "model = get_model()\n",
    "data = loadingDataset()\n",
    "\n",
    "while True:\n",
    "    print('MOVIE RECOMMENDATION MENU')\n",
    "    print(f\"YOUR REVIEW: {'NO REVIEW' if user_review == 0 else user_review}\")\n",
    "    print(f\"CATEGORY: {'UNKNOWN' if category == 0 else category}\")\n",
    "    print('1. WRITE REVIEW')\n",
    "    print('2. MOVIE RECOMMENDATION')\n",
    "    print('3. NER')\n",
    "    option = int(input('>> '))\n",
    "    if option == 1:\n",
    "        user_review, category = writeReview(model)\n",
    "    elif option == 2:\n",
    "        movieRecommendation(data,user_review)\n",
    "    elif option == 3:\n",
    "        NER(data)        \n",
    "\n"
   ]
  }
 ],
 "metadata": {
  "kernelspec": {
   "display_name": "Natural_Language_Processing",
   "language": "python",
   "name": "python3"
  },
  "language_info": {
   "codemirror_mode": {
    "name": "ipython",
    "version": 3
   },
   "file_extension": ".py",
   "mimetype": "text/x-python",
   "name": "python",
   "nbconvert_exporter": "python",
   "pygments_lexer": "ipython3",
   "version": "3.12.3"
  }
 },
 "nbformat": 4,
 "nbformat_minor": 2
}
